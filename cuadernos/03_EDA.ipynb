{
 "cells": [
  {
   "cell_type": "markdown",
   "metadata": {},
   "source": [
    "# Análisis del Dataset de los vuelos internos de EEUU desde 2021 a 2023"
   ]
  },
  {
   "cell_type": "code",
   "execution_count": 1,
   "metadata": {},
   "outputs": [],
   "source": [
    "import numpy as np\n",
    "import pandas as pd\n",
    "import os\n",
    "import matplotlib.pyplot as plt\n",
    "import seaborn as sns\n",
    "import plotly.express as px\n",
    "from plotly.subplots import make_subplots\n",
    "import plotly.graph_objects as go\n",
    "from datetime import datetime, timedelta\n",
    "import itertools"
   ]
  },
  {
   "cell_type": "markdown",
   "metadata": {},
   "source": [
    "Después de la limpieza de los datos extraídos, importamos el archivo pickle para su análisis."
   ]
  },
  {
   "cell_type": "code",
   "execution_count": 83,
   "metadata": {},
   "outputs": [],
   "source": [
    "df = pd.read_pickle(r'C:\\Users\\Dafne\\OneDrive\\Escritorio\\hack a boss\\proyecto_aviones\\data\\pickle\\vuelos_limpio.pkl')"
   ]
  },
  {
   "cell_type": "code",
   "execution_count": 84,
   "metadata": {},
   "outputs": [],
   "source": [
    "# df = df[df['anio'] == 2021]\n",
    "df = df[df['anio'] == 2022]\n",
    "# df = df[df['anio'] == 2023]"
   ]
  },
  {
   "cell_type": "code",
   "execution_count": null,
   "metadata": {},
   "outputs": [],
   "source": [
    "df.columns"
   ]
  },
  {
   "cell_type": "markdown",
   "metadata": {},
   "source": [
    "## Columnas del Dataframe\n",
    "\n",
    "\n",
    "- **aerolinea**: Nombre de la aerolínea.\n",
    "- **fecha**: La fecha del vuelo en formato día/mes/año.\n",
    "- **numero_vuelo**: El número de vuelo.\n",
    "- **numero_cola**: El número de cola del vuelo.\n",
    "- **aeropuerto_destino**: El aeropuerto de destino del vuelo. \n",
    "- **hora_salida_programada**: La hora programada de salida del vuelo.\n",
    "- **hora_salida_real**: La hora real de salida del vuelo.\n",
    "- **duracion_programada_vuelo**: La duración programada del vuelo.\n",
    "- **duracion_real**: La duración real del vuelo.\n",
    "- **retraso_salida**: El retraso en la salida del vuelo.\n",
    "- **hora_despegue**: La hora de despegue del vuelo.\n",
    "- **tiempo_pista_salida**: El tiempo en pista antes del despegue.\n",
    "- **tiempo_retraso_aerolinea**: Tiempo de retraso atribuido a la aerolínea.\n",
    "- **tiempo_retraso_clima**: Tiempo de retraso atribuido al clima.\n",
    "- **tiempo_retraso_sistema_aviacion**: Tiempo de retraso atribuido al sistema de aviación.\n",
    "- **tiempo_retraso_seguridad**: Tiempo de retraso atribuido a cuestiones de seguridad.\n",
    "- **retraso_llegada**: Retraso en la llegada de la aeronave.\n",
    "- **ciudad_origen**: La ciudad de origen del vuelo.\n",
    "- **estado_origen**: El estado de origen del vuelo.\n",
    "- **aeropuerto_origen**: El aeropuerto de origen del vuelo.\n",
    "- **dia_semana**: El día de la semana en que tuvo lugar el vuelo.\n",
    "- **anio**: El año en que tuvo lugar el vuelo.\n",
    "- **fin_de_semana**: Indicador de si el vuelo tuvo lugar durante el fin de semana o no.\n",
    "- **festivos**: Indicador de si el vuelo tuvo lugar en un día festivo o no.\n",
    "- **distancia_millas**: La distancia del vuelo en millas.\n",
    "- **ciudad_destino**: La ciudad de destino del vuelo.\n",
    "- **estado_destino**: El estado de destino del vuelo.\n",
    "- **codigo_aeropuerto_origen**: El código del aeropuerto de origen.\n",
    "- **codigo_aeropuerto_destino**: El código del aeropuerto de destino.\n",
    "- **direccion_destino**: Dirección del aeropuerto de destino.\n",
    "- **latitude_destino**: Latitud del aeropuerto de destino.\n",
    "- **longitude_destino**: Longitud del aeropuerto de destino.\n",
    "- **direccion_origen**: Dirección del aeropuerto de origen.\n",
    "- **latitude_origen**: Latitud del aeropuerto de origen.\n",
    "- **longitude_origen**: Longitud del aeropuerto de origen.\n",
    "- **mes**: Mes del vuelo.\n",
    "- **hora_llegada_real**: Hora real de llegada."
   ]
  },
  {
   "cell_type": "code",
   "execution_count": null,
   "metadata": {},
   "outputs": [],
   "source": [
    "df.head(2)"
   ]
  },
  {
   "cell_type": "markdown",
   "metadata": {},
   "source": [
    "Nuestro dataset tiene 1692476 filas y 37 columnas."
   ]
  },
  {
   "cell_type": "code",
   "execution_count": null,
   "metadata": {},
   "outputs": [],
   "source": [
    "df.shape"
   ]
  },
  {
   "cell_type": "code",
   "execution_count": null,
   "metadata": {},
   "outputs": [],
   "source": [
    "df.info()"
   ]
  },
  {
   "cell_type": "markdown",
   "metadata": {},
   "source": [
    "### Analizando las estadísticas descriptivas:\n",
    "- **fecha**: El rango de fechas va desde el 1 de diciembre de 2021 hasta el 31 de diciembre de 2023. \n",
    "- **numero_vuelo**: El número promedio de vuelo es aproximadamente 2425, con un mínimo de 1 y un máximo de 9683.\n",
    "- **duracion_programada_vuelo**: La duración promedio de vuelo programada es de aproximadamente 147 minutos, con una desviación estándar de aproximadamente 74 minutos. \n",
    "- **duracion_real**: La duración promedio de vuelo real es de aproximadamente 137 minutos, con una desviación estándar de aproximadamente 76 minutos. \n",
    "- **retraso_salida**: El tiempo promedio de retraso en la salida es de aproximadamente 13 minutos, con un mínimo de -99 minutos (lo que sugiere que algunos vuelos salieron antes de la hora programada) y un máximo de 3786 minutos (aproximadamente 63 horas de retraso).\n",
    "- **tiempo_pista_salida**: El tiempo promedio en pista antes de la salida es de aproximadamente 17 minutos.\n",
    "- **tiempo_retraso_aerolinea, tiempo_retraso_clima, tiempo_retraso_sistema_aviacion, tiempo_retraso_seguridad**: Los tiempos promedio de retraso atribuidos a la aerolínea, clima, sistema de aviación y seguridad son relativamente bajos, con la mayoría de los registros mostrando 0 minutos de retraso.\n",
    "- **retraso_llegada**: El tiempo promedio de retraso en la llegada es de aproximadamente 5 minutos.\n",
    "- **distancia_millas**: La distancia promedio de vuelo es de aproximadamente 834 millas, con un mínimo de 32 millas y un máximo de 5082 millas."
   ]
  },
  {
   "cell_type": "code",
   "execution_count": null,
   "metadata": {},
   "outputs": [],
   "source": [
    "df.describe()"
   ]
  },
  {
   "cell_type": "markdown",
   "metadata": {},
   "source": [
    "En 2021, la duración real promedio de los vuelos fue de aproximadamente 137 minutos, con el 75% de los vuelos teniendo una duración real de 170 minutos o menos. Además, se registró un retraso promedio en la salida de alrededor de 13 minutos, mientras que la mediana del retraso en la llegada fue de 3 minutos, lo que indica que la mitad de los vuelos experimentaron retrasos en la llegada iguales o menores a este valor, con un retraso promedio en la llegada de aproximadamente 5 minutos.\n",
    "\n",
    "En 2022, observamos que los vuelos en promedio fueron un poco más cortos que en 2021. Aunque la duración real promedio fue similar, se registró un retraso promedio en la salida ligeramente más alto, mientras que el retraso promedio en la llegada fue ligeramente más bajo en comparación con el año anterior.\n",
    "\n",
    "Finalmente, en 2023, los vuelos en promedio fueron un poco más cortos que en los años anteriores. Se observaron retrasos en la salida y llegada más bajos en comparación con los años anteriores, lo que indica una mejora en la puntualidad de los vuelos en este año.\n",
    "\n",
    "El análisis del dataset revela un amplio espectro de información sobre vuelos realizados entre diciembre de 2021 y diciembre de 2023, destacando una variabilidad significativa en el número de vuelos registrados, desde un mínimo de 1 hasta un máximo de 9683. Además, se observa que, aunque la duración promedio de los vuelos programados es de aproximadamente 147 minutos, existen diferencias notables entre la duración programada y la real, así como una amplia gama de tiempos de retraso en la salida, con algunos vuelos incluso adelantándose a la hora programada."
   ]
  },
  {
   "cell_type": "markdown",
   "metadata": {},
   "source": [
    "### Gráfico de barras de la cantidad de vuelos anuales registrados \n",
    "En el gráfico de barras podemos observar que en el año 2021, se registraron un total de 551,821 vuelos internos en Estados Unidos. Esta cifra aumentó ligeramente en el año 2022, alcanzando un total de 556,976 vuelos. Finalmente, para el año 2023, el número de vuelos registrados aumentó aún más, llegando a 583,679."
   ]
  },
  {
   "cell_type": "code",
   "execution_count": null,
   "metadata": {},
   "outputs": [],
   "source": [
    "df_copia= df.copy()\n",
    "df_copia[\"anio\"] = df_copia[\"anio\"].astype(str)\n",
    "\n",
    "vuelos_anuales = df_copia.groupby(['anio']).size().reset_index(name ='cantidad_vuelos_anuales')\n",
    "\n",
    "fig = px.bar(data_frame = vuelos_anuales,\n",
    "             x          = 'anio',\n",
    "             y          = 'cantidad_vuelos_anuales',\n",
    "             opacity                 = 0.8,\n",
    "             title      = \"Cantidad de Vuelos Anuales\",\n",
    "             color      = 'anio')\n",
    "\n",
    "fig.update_layout(title_x=0.5, xaxis_title='Año', yaxis_title='Cantidad de Vuelos', xaxis = {'categoryorder' : 'total descending'})\n",
    "\n",
    "fig.show()"
   ]
  },
  {
   "cell_type": "markdown",
   "metadata": {},
   "source": [
    "La interpretación de estos datos muestra una tendencia de crecimiento en el número de vuelos internos en Estados Unidos a lo largo de los años"
   ]
  },
  {
   "cell_type": "code",
   "execution_count": null,
   "metadata": {},
   "outputs": [],
   "source": [
    "vuelos_aerolinea = df.groupby(['aerolinea']).size().reset_index(name ='numero_vuelos')\n",
    "vuelos_aerolinea"
   ]
  },
  {
   "cell_type": "markdown",
   "metadata": {},
   "source": [
    "### Gráfico de barras de la cantidad de vuelos realizados por cada compañía aérea entre 2021-2023\n",
    "En todos los años, Southwest Airlines lidera con 341292 vuelos y Horizon Air con la menor cantidad, con 18839 vuelos. "
   ]
  },
  {
   "cell_type": "code",
   "execution_count": null,
   "metadata": {},
   "outputs": [],
   "source": [
    "vuelos_aerolinea = df.groupby(['aerolinea']).size().reset_index(name ='numero_vuelos')\n",
    "\n",
    "fig = px.bar(data_frame = vuelos_aerolinea,\n",
    "             x          = 'aerolinea',\n",
    "             y          = 'numero_vuelos',\n",
    "             opacity                 = 0.8,\n",
    "             title      = \"Cantidad de Vuelos por Compañía Aérea\",\n",
    "             color      = 'aerolinea')\n",
    "\n",
    "fig.update_layout(title_x=0.5, xaxis_title='Compañía Aérea', yaxis_title='Cantidad de Vuelos', xaxis = {'categoryorder' : 'total descending'})\n",
    "fig.show()"
   ]
  },
  {
   "cell_type": "markdown",
   "metadata": {},
   "source": [
    "Se nota una variabilidad considerable en la cantidad de vuelos por aerolínea, con las grandes compañías como Southwest Airlines, American Airlines o Delta Air Lines concentrando cientos de miles de vuelos registrados.\n",
    "\n",
    "Tanto en 2021 como en 2022, las tres principales aerolíneas, en orden descendente, fueron Southwest Airlines, American Airlines y Delta Air Lines. Sin embargo, en 2023, Delta Air Lines avanzó un puesto en esta clasificación, colocándose en la segunda posición por delante de American Airlines."
   ]
  },
  {
   "cell_type": "markdown",
   "metadata": {},
   "source": [
    "### Diagrama de caja que muestra la distribución de las horas de salida y llegada de los vuelos en minutos\n",
    "\n",
    "En el conjunto de los datos, la mediana de las horas de salida es de 792 minutos, mientras que la mediana de las horas de llegada es de 880 minutos, la hora mediana de salida se sitúa aproximadamente a las 13:12, mientras que para la llegada, se estima alrededor de las 14:40."
   ]
  },
  {
   "cell_type": "code",
   "execution_count": null,
   "metadata": {},
   "outputs": [],
   "source": [
    "# Convertimos las horas a minutos desde la medianoche para ordenarlas\n",
    "df_copia[\"hora_salida_minutos\"] = df_copia[\"hora_salida_real\"].apply(lambda x: x.hour * 60 + x.minute)\n",
    "df_copia[\"hora_llegada_minutos\"] = df_copia[\"hora_llegada_real\"].apply(lambda x: x.hour * 60 + x.minute)\n",
    "\n",
    "minutos = list(range(0, 1441, 60))  \n",
    "\n",
    "fig = go.Figure()\n",
    "\n",
    "fig.add_trace(go.Box(x=df_copia[\"hora_salida_minutos\"], name=\"Salida\"))\n",
    "fig.add_trace(go.Box(x=df_copia[\"hora_llegada_minutos\"], name=\"Llegada\"))\n",
    "\n",
    "fig.update_layout(\n",
    "    title=\"Diagrama de caja para las horas de salida y llegada de los vuelos\",\n",
    "    title_x=0.5,\n",
    "    xaxis_title=\"Minutos\")\n",
    "\n",
    "fig.show()"
   ]
  },
  {
   "cell_type": "markdown",
   "metadata": {},
   "source": [
    "En promedio, salen y llegan más tarde. La mediana de las horas de salida se mantiene por encima de las 777 minutos en todos los años, con un ligero aumento en 2023 a 804 minutos. Por otro lado, la mediana de las horas de llegada tiende a ser aún mayor, con un aumento progresivo de 794 minutos en 2021 a 890 minutos en 2023. "
   ]
  },
  {
   "cell_type": "markdown",
   "metadata": {},
   "source": [
    "### CORRELACIÓN ENTRE VARIABLES"
   ]
  },
  {
   "cell_type": "code",
   "execution_count": null,
   "metadata": {},
   "outputs": [],
   "source": [
    "columnas_numericas = df.select_dtypes(include=['int64', 'int32', 'float64']).columns.tolist()\n",
    "columnas_numericas"
   ]
  },
  {
   "cell_type": "code",
   "execution_count": null,
   "metadata": {},
   "outputs": [],
   "source": [
    "for i, j in itertools.combinations(columnas_numericas, 2):\n",
    "    corr_columnas = df[i].corr(df[j], method='pearson')\n",
    "    \n",
    "    if corr_columnas >= 0.5:\n",
    "        print(f\"Correlación entre {i} y {j}: {corr_columnas}\")"
   ]
  },
  {
   "cell_type": "markdown",
   "metadata": {},
   "source": [
    "### Creamos un mapa de calor que muestra las correlaciones de Pearson entre las variables numéricas.\n",
    "\n",
    "A partir de 0.5 salen estas correlaciones: \n",
    "- Correlación entre duracion_programada_vuelo y duracion_real: 0.923233505775255\n",
    "- Correlación entre duracion_programada_vuelo y distancia_millas: 0.9740538852207042\n",
    "- Correlación entre duracion_real y distancia_millas: 0.9041802953528973\n",
    "- Correlación entre retraso_salida y tiempo_retraso_aerolinea: 0.7091787064669292\n",
    "- Correlación entre retraso_salida y retraso_llegada: 0.6089926778881398\n",
    "- Correlación entre dia_semana y fin_de_semana: 0.7724120491046511\n"
   ]
  },
  {
   "cell_type": "code",
   "execution_count": null,
   "metadata": {},
   "outputs": [],
   "source": [
    "fig = px.imshow(\n",
    "    img = round(df[['numero_vuelo', 'duracion_programada_vuelo', 'duracion_real', 'retraso_salida', 'tiempo_pista_salida', \n",
    "                          'tiempo_retraso_aerolinea', 'tiempo_retraso_clima', 'tiempo_retraso_sistema_aviacion',\n",
    "                          'tiempo_retraso_seguridad', 'retraso_llegada', 'dia_semana', 'fin_de_semana',\n",
    "                          'festivos']].corr(), 1),\n",
    "    text_auto = True, title = \"Correlaciones Lineales de las Variables Numéricas\")\n",
    "\n",
    "fig.update_layout(title_x = 0.5, width = 1000, height = 800 )"
   ]
  },
  {
   "cell_type": "markdown",
   "metadata": {},
   "source": [
    "La única correlación significativa relevante mediante el coeficiente de Pearson es entre el Retraso en la Salida y en la Llegada de Vuelos."
   ]
  },
  {
   "cell_type": "code",
   "execution_count": null,
   "metadata": {},
   "outputs": [],
   "source": [
    "corr_salida_llegada = df[\"retraso_salida\"].corr(df[\"retraso_llegada\"])\n",
    "corr_salida_llegada"
   ]
  },
  {
   "cell_type": "markdown",
   "metadata": {},
   "source": [
    "### Creamos un gráfico de dispersión para representar la correlación entre retraso en la salida y en la llegada de los vuelos\n",
    "Hay una relación positiva moderadamente fuerte entre las dos variables. Cuando un vuelo se retrasa en la salida, tiende a experimentar un retraso similar en la llegada. "
   ]
  },
  {
   "cell_type": "code",
   "execution_count": null,
   "metadata": {},
   "outputs": [],
   "source": [
    "fig= px.scatter(data_frame  = df,\n",
    "                x           = \"retraso_salida\",\n",
    "                y           = \"retraso_llegada\",\n",
    "                title       = \"Correlación Lineal entre los Indicadores de Retraso en la Salida y en la Llegada de Vuelos\",\n",
    "                opacity     = 0.5,\n",
    "                trendline   = 'ols')\n",
    "\n",
    "fig.update_layout(title_x=0.5)"
   ]
  },
  {
   "cell_type": "markdown",
   "metadata": {},
   "source": [
    "### Gráfico de pastel la cantidad de vuelos con y sin retraso tanto en la salida como en la llegada\n",
    "Calculando el porcentaje de vuelos con retraso superior a 15 minutos observamos que en los tres años, las salidas de los aviones experimentaron un retraso promedio del 20,7%, mientras que las llegadas tuvieron un retraso promedio del 7,77%. \n",
    "\n",
    "En 2021, las salidas sufrieron un retraso del 21,7%, mientras que las llegadas tuvieron un retraso del 7,61%. En 2022, los retrasos en las salidas aumentaron a 24,7%, y en las llegadas alcanzaron el 10,1%. Finalmente, en 2023, los retrasos en las salidas disminuyeron a 15,9%, y en las llegadas descendieron a 5,7%."
   ]
  },
  {
   "cell_type": "code",
   "execution_count": null,
   "metadata": {},
   "outputs": [],
   "source": [
    "sin_retraso_salida = df[df['retraso_salida'] <= 15].shape[0]\n",
    "con_retraso_salida = df[df['retraso_salida'] > 15].shape[0]\n",
    "\n",
    "sin_retraso_llegada = df[df['retraso_llegada'] <= 15].shape[0]\n",
    "con_retraso_llegada = df[df['retraso_llegada'] > 15].shape[0]\n",
    "\n",
    "fig = make_subplots(1, 2, specs=[[{'type':'domain'}, {'type':'domain'}]], subplot_titles=('Salidas', 'Llegadas'))\n",
    "\n",
    "fig.add_trace(go.Pie(labels=['Sin retraso', 'Con retraso'], values=[sin_retraso_salida, con_retraso_salida]), 1, 1)\n",
    "fig.add_trace(go.Pie(labels=['Sin retraso', 'Con retraso'], values=[sin_retraso_llegada, con_retraso_llegada]), 1, 2)\n",
    "\n",
    "fig.update_layout(title_text = \"Porcentaje de Retrasos Superiores a 15 Minutos en los Vuelos\", title_x = 0.5)\n",
    "\n",
    "fig.update_traces(pull = [0.05, 0.05], marker = dict(colors = px.colors.qualitative.Set2))"
   ]
  },
  {
   "cell_type": "markdown",
   "metadata": {},
   "source": [
    "Se puede apreciar una tendencia de aumento en los retrasos de 2021 a 2022, seguida de una mejora en la puntualidad en 2023 al analizar los datos por años.\n",
    "\n",
    "Un porcentaje significativamente mayor de vuelos experimentan retrasos en la salida en comparación con los retrasos en la llegada. Esto sugiere que los retrasos en la salida pueden ser más comunes o tener un impacto más notable en la puntualidad de los vuelos en comparación con los retrasos en la llegada."
   ]
  },
  {
   "cell_type": "markdown",
   "metadata": {},
   "source": [
    "### Gráfico de pastel comparando la cantidad de vuelos con y sin retraso, tanto en la salida como en la llegada, diferenciando entre días laborables y días festivos. \n",
    "En el conjunto de datos, durante los días laborables, el 22.8% de los vuelos experimentan retrasos en la salida, mientras que el 10.3% tienen retrasos en la llegada. Por otro lado, durante los días festivos, el 97.8% de los vuelos presentan retrasos en la salida, y el 97.5% experimentan retrasos en la llegada. \n",
    "- En 2021, durante los días laborables, el 23.9% de los vuelos sufrieron retrasos en la salida y el 10.2% en la llegada. En días festivos, estos porcentajes fueron del 97.7% y 97.4% respectivamente.\n",
    "- En 2022, durante los días laborables, el 26.4% de los vuelos experimentaron retrasos en la salida y el 12.4% en la llegada. En días festivos, estos valores fueron del 98.2% y 97.7% respectivamente.\n",
    "- En 2023, durante los días laborables, el 18.3% de los vuelos presentaron retrasos en la salida y el 8.43% en la llegada. En días festivos, estos porcentajes fueron del 97.5% y 97.3% respectivamente."
   ]
  },
  {
   "cell_type": "code",
   "execution_count": null,
   "metadata": {},
   "outputs": [],
   "source": [
    "salidas_laborables  = df[(df['retraso_salida'] <= 15) & (df['festivos'] == 0)].shape[0]\n",
    "salidas_festivos    = df[(df['retraso_salida'] <= 15) & (df['festivos'] == 1)].shape[0]\n",
    "llegadas_laborables = df[(df['retraso_llegada'] <= 15) & (df['festivos'] == 0)].shape[0]\n",
    "llegadas_festivos   = df[(df['retraso_llegada'] <= 15) & (df['festivos'] == 1)].shape[0]\n",
    "\n",
    "fig = make_subplots(rows  = 2, cols = 2, subplot_titles = (\"Salidas en días laborables\", \"Salidas en días festivos\", \"Llegadas en días laborables\", \"Llegadas en días festivos\"), \n",
    "                    specs = [[{'type':'domain'}, {'type':'domain'}], [{'type':'domain'}, {'type':'domain'}]])\n",
    "\n",
    "fig.add_trace(go.Pie(labels =['Sin retraso', 'Con retraso'], values = [salidas_laborables, df.shape[0] - salidas_laborables]), 1, 1)\n",
    "fig.add_trace(go.Pie(labels = ['Sin retraso', 'Con retraso'], values = [salidas_festivos, df.shape[0] - salidas_festivos]), 1, 2)\n",
    "fig.add_trace(go.Pie(labels = ['Sin retraso', 'Con retraso'], values = [llegadas_laborables, df.shape[0] - llegadas_laborables]), 2, 1)\n",
    "fig.add_trace(go.Pie(labels = ['Sin retraso', 'Con retraso'], values = [llegadas_festivos, df.shape[0] - llegadas_festivos]), 2, 2)\n",
    "\n",
    "fig.update_layout(title_text = \"Comparación del Porcentaje de Retrasos en Salidas y Llegadas de Vuelos en días festivos\",\n",
    "                  title_x    = 0.5, \n",
    "                  width      = 1000, \n",
    "                  height     = 800)\n",
    "\n",
    "fig.update_traces(pull = [0.05, 0.05], marker = dict(colors=px.colors.qualitative.Set3), rotation = 60)\n",
    "\n",
    "fig.show()"
   ]
  },
  {
   "cell_type": "markdown",
   "metadata": {},
   "source": [
    "En cada año, los porcentajes de retraso fueron más altos en las salidas que en las llegadas, tanto en días laborables como festivos. \n",
    "\n",
    "En todos los años, los días festivos presentaron un alto porcentaje de vuelos con retraso tanto en la salida como en la llegada, en comparación con los días laborables. Este incremento tan notorio puede deberse a una combinación de varios factores, algunas interpretaciones que le damos son la reducción en el número de trabajadores durante los días festivos o un mayor volumen de viajes y por consiguiente mayor congestion en los aeropuertos...\n",
    "\n",
    "En general, hubo una mejora en la puntualidad de los vuelos durante los días laborables de 2021 a 2023, con una disminución en los porcentajes de retraso tanto en la salida como en la llegada. Sin embargo, esta tendencia no se observa de manera consistente en los días festivos, donde los porcentajes de retraso se mantuvieron altos en todos los años."
   ]
  },
  {
   "cell_type": "code",
   "execution_count": null,
   "metadata": {},
   "outputs": [],
   "source": [
    "retrasos_llegada = df[df['retraso_llegada'] > 15]\n",
    "sin_retraso_llegada = df[df['retraso_llegada'] <= 15]\n",
    "\n",
    "retrasos_aerolinea_llegada = retrasos_llegada.groupby(['aerolinea']).size().reset_index(name='con_retraso')\n",
    "\n",
    "sin_retraso_aerolinea = sin_retraso_llegada.groupby(['aerolinea']).size().reset_index()\n",
    "sin_retraso_aerolinea.columns = ['aerolinea', 'sin_retraso']\n",
    "\n",
    "retrasos_aerolinea = retrasos_aerolinea_llegada.merge(sin_retraso_aerolinea, on='aerolinea', how='left').fillna(0)\n",
    "\n",
    "retrasos_aerolinea.head()"
   ]
  },
  {
   "cell_type": "markdown",
   "metadata": {},
   "source": [
    "### Gráfico de barras que muestra la cantidad de vuelos con y sin retraso en la llegada, desglosado por aerolínea\n",
    "Está puesto con total descending para que cuando se seleccione uno salga el que más tiene retrasos o puntualidad. En el conjunto de los datos Southwest Airlines tiene la mayor cantidad de vuelos con retraso en la llegada, con un total de 36799 vuelos. Es el que menos vuelos con retraso tiene también, porque es el que más número total de vuelos realiza.\n",
    "\n",
    "Cuando examinamos los datos por año, como hemos visto en gráficos previos, Southwest Airlines se mantiene como líder, mientras que American Airlines y Delta Air Lines compiten por el segundo lugar."
   ]
  },
  {
   "cell_type": "code",
   "execution_count": null,
   "metadata": {},
   "outputs": [],
   "source": [
    "fig = px.bar(retrasos_aerolinea, \n",
    "             x                  = 'aerolinea', \n",
    "             y                  = ['con_retraso', 'sin_retraso'], \n",
    "             title              = 'Cantidad de vuelos con y sin retraso en la llegada por aerolínea',\n",
    "             labels             = {'aerolinea': 'Aerolínea', 'value': 'Cantidad de vuelos'},\n",
    "             opacity            = 0.7, \n",
    "             color_discrete_map = {\"con_retraso\": \"gray\", \"sin_retraso\": \"pink\"})\n",
    "\n",
    "fig.update_layout(title_x = 0.5, xaxis = {'categoryorder': 'total descending'})\n",
    "\n",
    "fig.show()"
   ]
  },
  {
   "cell_type": "markdown",
   "metadata": {},
   "source": [
    "Para Delta Air Lines y SkyWest Airlines, ambas aerolíneas muestran una proporción relativamente baja de vuelos con retraso en la llegada en comparación con el total de vuelos. Tienen un buen desempeño en términos de puntualidad en comparación con otras aerolíneas."
   ]
  },
  {
   "cell_type": "code",
   "execution_count": null,
   "metadata": {},
   "outputs": [],
   "source": [
    "retrasos_llegada = df[df['retraso_llegada'] > 15]\n",
    "sin_retraso_llegada = df[df['retraso_llegada'] <= 15]\n",
    "\n",
    "retraso_aeropuerto_llegada = retrasos_llegada.groupby(['aeropuerto_origen']).size().reset_index(name='con_retraso')\n",
    "\n",
    "sin_retraso_aeropuerto = sin_retraso_llegada.groupby(['aeropuerto_origen']).size().reset_index()\n",
    "sin_retraso_aeropuerto.columns = ['aeropuerto_origen', 'sin_retraso']\n",
    "\n",
    "retrasos_aeropuerto = retraso_aeropuerto_llegada.merge(sin_retraso_aeropuerto, on='aeropuerto_origen', how='left').fillna(0)\n",
    "retrasos_aeropuerto_ordenado = retrasos_aeropuerto.sort_values(by='con_retraso', ascending=False)\n",
    "retrasos_aeropuerto_ordenado.head()"
   ]
  },
  {
   "cell_type": "markdown",
   "metadata": {},
   "source": [
    "### Gráfico de barras de los aeropuertos de origen con mayor cantidad de vuelos retrasados en la llegada\n",
    "Dado que el aeropuerto de origen cuenta con 362 valores, hemos restringido la visualización a los 15 aeropuertos con el mayor número de vuelos retrasados. Estos aeropuertos son precisamente aquellos con la mayor afluencia de vuelos."
   ]
  },
  {
   "cell_type": "code",
   "execution_count": null,
   "metadata": {},
   "outputs": [],
   "source": [
    "fig = px.bar(retrasos_aeropuerto_ordenado[:15], x='aeropuerto_origen', y=['con_retraso', 'sin_retraso'], \n",
    "             title='Top 15 aeropuertos de origen con mayor cantidad de vuelos con retraso en la llegada',\n",
    "             labels={'aeropuerto_origen': 'Aeropuerto origen', 'value': 'Cantidad de vuelos'},\n",
    "             opacity= 0.7, color_discrete_map= {\"con_retraso\": \"turquoise\", \"sin_retraso\": \"tan\"})\n",
    "\n",
    "fig.update_layout(title_x=0.5, xaxis={'categoryorder': 'total descending'})\n",
    "\n",
    "fig.show()"
   ]
  },
  {
   "cell_type": "markdown",
   "metadata": {},
   "source": [
    "Al analizar los tres años por separado, se destaca que el aeropuerto con el mayor número total de vuelos en todos los años es Hartsfield-Jackson Atlanta International. Sin embargo, en cuanto al número de retrasos, el primer puesto varía entre Dallas/Fort Worth International y Denver International. Es importante señalar que, aunque el número de retrasos aumentó considerablemente en 2022, en 2023 volvió a descender.\n",
    "\n",
    "En todos los años, los aeropuertos de origen con mayor cantidad de vuelos los tienen Dallas/Fort Worth International, Denver International y Hartsfield-Jackson Atlanta International. Sin embargo, en cuanto a vuelos con retraso, Denver y Dallas ocupan los primeros lugares, seguidos por Harry Reid International, mientras que Hartsfield-Jackson se ubica en el octavo lugar en términos de retrasos."
   ]
  },
  {
   "cell_type": "markdown",
   "metadata": {},
   "source": [
    "### Gráfico de líneas que muestra el número de vuelos por día en los distintos años en el mes de Diciembre.\n",
    "Creamos subgráficos para visualizar el número de vuelos por día en diciembre, desglosado por años: 2021, 2022 y 2023. "
   ]
  },
  {
   "cell_type": "code",
   "execution_count": null,
   "metadata": {},
   "outputs": [],
   "source": [
    "df_fechas = df.groupby(['anio', 'fecha']).size().reset_index(name ='numero_vuelos')\n",
    "\n",
    "fig1 = px.line(df_fechas[(df_fechas['anio'] == 2021)], x ='fecha', y = 'numero_vuelos', color_discrete_sequence = ['skyblue'])\n",
    "fig2 = px.line(df_fechas[(df_fechas['anio'] == 2022)], x ='fecha', y = 'numero_vuelos', color_discrete_sequence = ['violet'])\n",
    "fig3 = px.line(df_fechas[(df_fechas['anio'] == 2023)], x ='fecha', y = 'numero_vuelos', color_discrete_sequence = ['springgreen'])\n",
    "\n",
    "# \n",
    "fig = make_subplots(rows=1, cols=3, subplot_titles=('2021', '2022', '2023'))\n",
    "fig.add_trace(fig1.data[0], row = 1, col = 1)\n",
    "fig.add_trace(fig2.data[0], row = 1, col = 2)\n",
    "fig.add_trace(fig3.data[0], row = 1, col = 3)\n",
    "\n",
    "for n in range(1,4):\n",
    "    fig.update_xaxes(title_text = 'Fecha', row = 1, col = n)\n",
    "\n",
    "fig.update_yaxes(title_text  = 'Número de vuelos', row = 1, col = 1)\n",
    "fig.update_layout(title_text = 'Número de vuelos por días en Diciembre.', title_x = 0.5)\n",
    "\n",
    "fig.show()"
   ]
  },
  {
   "cell_type": "markdown",
   "metadata": {},
   "source": [
    "Es destacable que hay un comportamiento similar en los datos de los tres años, aunque se observa un claro aumento en el número de vuelos según pasan los años. El pico descendente del 24-25 de diciembre indica una disminución en el número de vuelos durante la víspera y el día de Navidad."
   ]
  },
  {
   "cell_type": "markdown",
   "metadata": {},
   "source": [
    "### Gráfico de líneas que muestra el número de vuelos por día  en los distintos años en el mes de Diciembre.\n",
    "\n",
    "Este gráfico presenta el número acumulado de vuelos por día durante el mes de diciembre en diferentes años. Cada línea muestra la acumulación de vuelos a medida que transcurren los días del mes."
   ]
  },
  {
   "cell_type": "code",
   "execution_count": null,
   "metadata": {},
   "outputs": [],
   "source": [
    "df_fechas = df.groupby(['anio', 'fecha']).size().reset_index(name='numero_vuelos')\n",
    "df_fechas['vuelos_acumulativo'] = df_fechas.groupby('anio')['numero_vuelos'].cumsum()\n",
    "\n",
    "fig1 = px.line(df_fechas[(df_fechas['anio'] == 2021)], x='fecha', y='vuelos_acumulativo', color_discrete_sequence=['skyblue'])\n",
    "fig2 = px.line(df_fechas[(df_fechas['anio'] == 2022)], x='fecha', y='vuelos_acumulativo', color_discrete_sequence=['violet'])\n",
    "fig3 = px.line(df_fechas[(df_fechas['anio'] == 2023)], x='fecha', y='vuelos_acumulativo', color_discrete_sequence=['springgreen'])\n",
    "\n",
    "fig = make_subplots(rows=1, cols=3, subplot_titles=('2021', '2022', '2023'))\n",
    "fig.add_trace(fig1.data[0], row=1, col=1)\n",
    "fig.add_trace(fig2.data[0], row=1, col=2)\n",
    "fig.add_trace(fig3.data[0], row=1, col=3)\n",
    "\n",
    "for n in range(1, 4):\n",
    "    fig.update_xaxes(title_text='Fecha', row=1, col=n)\n",
    "\n",
    "fig.update_yaxes(title_text='Número de vuelos acumulados', row=1, col=1)\n",
    "fig.update_layout(title_text='Número de vuelos acumulados por día en diciembre', title_x=0.5)\n",
    "fig.show()"
   ]
  },
  {
   "cell_type": "markdown",
   "metadata": {},
   "source": [
    "Se evidencia un crecimiento constante en el número acumulado de vuelos a lo largo de los años, destacando un incremento más marcado en el año 2023."
   ]
  },
  {
   "cell_type": "markdown",
   "metadata": {},
   "source": [
    "### Gráfico que muestra el número de salidas y llegadas por rango horario\n",
    "Asignamos un rango horario a los vuelos para representar la cantidad de vuelos que salen y llegan en la madrugada, en la mañana, tarde y noche."
   ]
  },
  {
   "cell_type": "code",
   "execution_count": null,
   "metadata": {},
   "outputs": [],
   "source": [
    "def asignar_rango(hora):\n",
    "    if hora.hour < 6:\n",
    "        return \"00:00 - 05:59\"\n",
    "    elif hora.hour < 12:\n",
    "        return \"06:00 - 11:59\"\n",
    "    elif hora.hour < 18:\n",
    "        return \"12:00 - 17:59\"\n",
    "    else:\n",
    "        return \"18:00 - 23:59\"\n",
    "\n",
    "llegada_salida = df[['hora_salida_real', 'hora_llegada_real']]\n",
    "\n",
    "llegada_salida['rango_salida'] = llegada_salida['hora_salida_real'].apply(asignar_rango)\n",
    "llegada_salida['rango_llegada'] = llegada_salida['hora_llegada_real'].apply(asignar_rango)"
   ]
  },
  {
   "cell_type": "code",
   "execution_count": null,
   "metadata": {},
   "outputs": [],
   "source": [
    "fig = px.histogram(llegada_salida, x=[\"rango_salida\", \"rango_llegada\"], \n",
    "                   title=\"Cantidad de llegadas/salidas por rangos horarios\",\n",
    "                   labels={\"value\": \"Rango horario\", \"count\": \"Cantidad\"},\n",
    "                   barmode=\"group\",\n",
    "                   opacity= 0.7, color_discrete_map= {\"rango_salida\": \"royalblue\", \"rango_llegada\": \"crimson\"})\n",
    "\n",
    "fig.update_layout(title_x=0.5)\n",
    "\n",
    "fig.show()"
   ]
  },
  {
   "cell_type": "markdown",
   "metadata": {},
   "source": [
    "Predominantemente, los vuelos tienen lugar en la madrugada o por la mañana, mientras que la mayoría de las llegadas ocurren durante la mañana."
   ]
  },
  {
   "cell_type": "markdown",
   "metadata": {},
   "source": [
    "### Gráfico que muestra el número retrasos en salidas y llegadas por rango horario."
   ]
  },
  {
   "cell_type": "code",
   "execution_count": null,
   "metadata": {},
   "outputs": [],
   "source": [
    "llegada_salida_retrasos = df[['hora_salida_real', 'hora_llegada_real', 'retraso_llegada']]\n",
    "\n",
    "llegada_salida_retrasos['rango_salida'] = llegada_salida_retrasos['hora_salida_real'].apply(asignar_rango)\n",
    "llegada_salida_retrasos['rango_llegada'] = llegada_salida_retrasos['hora_llegada_real'].apply(asignar_rango)\n",
    "llegada_salida_retrasos['retraso'] = llegada_salida_retrasos['retraso_llegada'].apply(lambda x: 1 if x > 15 else 0)\n",
    "\n",
    "salida_retrasos =  llegada_salida_retrasos.groupby(['rango_salida']).agg({'retraso' : 'sum'}).reset_index()\n",
    "llegada_retrasos =  llegada_salida_retrasos.groupby(['rango_llegada']).agg({'retraso' : 'sum'}).reset_index()"
   ]
  },
  {
   "cell_type": "code",
   "execution_count": null,
   "metadata": {},
   "outputs": [],
   "source": [
    "fig1 = px.bar(salida_retrasos, x='rango_salida', y='retraso', title='Retrasos por Rango de Salida', opacity= 0.7)\n",
    "fig2 = px.bar(llegada_retrasos, x='rango_llegada', y='retraso', title='Retrasos por Rango de Llegada', opacity= 0.7)\n",
    "\n",
    "fig1.update_xaxes(title_text='Rango de Salida')\n",
    "fig1.update_yaxes(title_text='Cantidad de Retrasos')\n",
    "fig2.update_xaxes(title_text='Rango de Llegada')\n",
    "fig2.update_yaxes(title_text='Cantidad de Retrasos')\n",
    "\n",
    "fig = make_subplots(rows=1, cols=2, subplot_titles=('Retrasos por Rango de Salida', 'Retrasos por Rango de Llegada'))\n",
    "fig.add_trace(fig1['data'][0], row=1, col=1)\n",
    "fig.add_trace(fig2['data'][0], row=1, col=2)\n",
    "\n",
    "fig.show()"
   ]
  },
  {
   "cell_type": "markdown",
   "metadata": {},
   "source": [
    "Se evidencia que tanto en las salidas como en las llegadas, la mayoría de los retrasos se concentran en el rango horario de la tarde-noche. Esta observación resulta sorprendente dado que este no es el período de mayor tráfico aéreo. Una posible explicación podría estar relacionada con la congestión del tráfico aéreo en estos horarios."
   ]
  },
  {
   "cell_type": "markdown",
   "metadata": {},
   "source": [
    "### Gráfico para observar el número de vuelos por día de la semana, con y sin retrasos.\n",
    "Se aprecia que los viernes registran la mayor cantidad de vuelos, seguidos de cerca por los jueves. Sin embargo, al examinar los días con más retrasos, la situación cambia: primero se observa el jueves, seguido por el viernes."
   ]
  },
  {
   "cell_type": "code",
   "execution_count": null,
   "metadata": {},
   "outputs": [],
   "source": [
    "retrasos_llegada = df[df['retraso_llegada'] > 15]\n",
    "sin_retraso_llegada = df[df['retraso_llegada'] <= 15]\n",
    "\n",
    "retraso_dia_semana = retrasos_llegada.groupby(['dia_semana']).size().reset_index(name='con_retraso')\n",
    "sin_retraso_semana = sin_retraso_llegada.groupby(['dia_semana']).size().reset_index()\n",
    "sin_retraso_semana.columns = ['dia_semana', 'sin_retraso']\n",
    "\n",
    "retrasos_dia_semana = retraso_dia_semana.merge(sin_retraso_semana, on='dia_semana', how='left').fillna(0)\n",
    "\n",
    "fig = px.bar(retrasos_dia_semana, \n",
    "            x       = \"dia_semana\",  \n",
    "            y       = [\"sin_retraso\", \"con_retraso\"], \n",
    "            barmode = \"stack\", \n",
    "            labels  = {\"value\": \"Cantidad de vuelos\", \"dia_semana\": \"Día de la semana\"},  \n",
    "            color_discrete_map = {\"con_retraso\": \"lightsalmon\", \"sin_retraso\": \"pink\"})\n",
    "\n",
    "fig.update_layout(title    = \"Cantidad de vuelos con y sin retraso por día de la semana\",\n",
    "                  xaxis    = dict(tickmode = \"array\", \n",
    "                  tickvals = list(range(7)),\n",
    "                  ticktext = [\"Lunes\", \"Martes\", \"Miércoles\", \"Jueves\", \"Viernes\", \"Sábado\", \"Domingo\"]), title_x=0.5)\n",
    "\n",
    "fig.show()"
   ]
  },
  {
   "cell_type": "markdown",
   "metadata": {},
   "source": [
    "Al analizar los datos por año, observamos una gran variabilidad en los días con mayor número de retrasos. En 2021, los jueves y los lunes destacaron con un mayor número de retrasos, mientras que en 2022 los viernes experimentaron más retrasos, seguidos de los jueves. En 2023, el domingo corona con un gran número de retrasos, seguido por el viernes.\n",
    "\n",
    "Si consideramos todos los datos en conjunto, a pesar de que los viernes son los días con mayor cantidad de vuelos, posiblemente debido a la demanda de viajes de fin de semana, los jueves muestran una tendencia más alta a experimentar retrasos."
   ]
  },
  {
   "cell_type": "markdown",
   "metadata": {},
   "source": [
    "### Tipos de retrasos más comunes\n",
    "\n",
    "Es evidente que los retrasos relacionados con la seguridad prácticamente no tienen incidencia. El tipo de retraso más frecuente es el \"tiempo de retraso por aerolínea\", con más de de 9,000,000 minutos, seguido por \"retraso por sistema de aviación\" con más de 3,000,000 minutos."
   ]
  },
  {
   "cell_type": "code",
   "execution_count": null,
   "metadata": {},
   "outputs": [],
   "source": [
    "tipos_retrasos = df[['tiempo_retraso_aerolinea', 'tiempo_retraso_clima', 'tiempo_retraso_sistema_aviacion', 'tiempo_retraso_seguridad']]\n",
    "total_tipo = tipos_retrasos.sum()\n",
    "\n",
    "fig = px.bar(x=total_tipo.index, y=total_tipo.values, labels={'x': 'Tipo de retraso', 'y': 'Total minutos'},\n",
    "             title='Total de minutos por cada tipo de retraso', color_discrete_sequence=['skyblue'])\n",
    "fig.update_layout(title_x=0.5, xaxis={'categoryorder': 'total descending'})\n",
    "fig.show()"
   ]
  },
  {
   "cell_type": "markdown",
   "metadata": {},
   "source": [
    "Los retrasos relacionados con el tiempo de la aerolínea son significativamente más frecuentes y prolongados en comparación con el resto. Esto podría indicar que las aerolíneas tienen un papel importante en la gestión de sus horarios y operaciones para minimizar los retrasos y mejorar la puntualidad de los vuelos."
   ]
  },
  {
   "cell_type": "markdown",
   "metadata": {},
   "source": [
    "### Gráfico de análisis porcentual de retrasos aéreos por tiempo y número\n",
    "Este gráfico de pastel hace un análisis en porcentaje de los retrasos aéreos. Se divide en dos, la distribución del tiempo acumulado de retraso por tipo y la frecuencia de ocurrencia de cada tipo de retraso en relación con el total de retrasos."
   ]
  },
  {
   "cell_type": "code",
   "execution_count": null,
   "metadata": {},
   "outputs": [],
   "source": [
    "porcentaje_por_columna = tipos_retrasos.sum() / tipos_retrasos.sum().sum() * 100 \n",
    "valores_no_cero = tipos_retrasos.astype(bool).sum(axis=0) \n",
    "\n",
    "fig = make_subplots(rows=1, cols=2,\n",
    "                    subplot_titles = (\"Tiempo de retraso acumulados.\", \"Porcentaje de retrasos.\"),\n",
    "                    specs=[[{'type':'domain'}, {'type':'domain'}]])\n",
    "\n",
    "fig.add_trace(go.Pie(labels=porcentaje_por_columna.index, values=porcentaje_por_columna.values), row = 1,col = 1)\n",
    "fig.add_trace(go.Pie(labels=valores_no_cero.index, values=valores_no_cero.values), row = 1,col =  2)\n",
    "\n",
    "fig.update_layout(title_text = 'Análisis de Retrasos Aéreos',\n",
    "                  title_x    = 0.5, \n",
    "                  width      = 1000, \n",
    "                  height     = 500)\n",
    "\n",
    "fig.update_traces(pull = [0.05, 0.05], marker = dict(colors=px.colors.qualitative.Set3))\n",
    "\n",
    "fig.show()"
   ]
  },
  {
   "cell_type": "markdown",
   "metadata": {},
   "source": [
    "Como se evidenció en el gráfico anterior, la mayor cantidad de tiempo de retraso se concentra en el retraso por aerolínea, que es el más frecuente en términos de incidencia. Sin embargo, es notable que el retraso debido al sistema de aviación también es bastante recurrente.\n",
    "La cantidad frecuente de retrasos causados por problemas en el sistema de aviación resalta la necesidad de mejorar la eficiencia y confiabilidad de la gestión del tráfico aéreo y la infraestructura de los aeropuertos."
   ]
  },
  {
   "cell_type": "markdown",
   "metadata": {},
   "source": [
    "### Estados de origen y retrasos\n",
    "El gráfico de barras muestra el número total de vuelos de llegada, revelando que los estados de Texas, California y Florida, además de ser los más concurridos, también experimentan más retrasos debido a su elevado número de vuelos."
   ]
  },
  {
   "cell_type": "code",
   "execution_count": null,
   "metadata": {},
   "outputs": [],
   "source": [
    "retrasos_llegada = df[df['retraso_llegada'] > 15]\n",
    "sin_retraso_llegada = df[df['retraso_llegada'] <= 15]\n",
    "\n",
    "retrasos_estados_origen = retrasos_llegada.groupby(['estado_origen']).size().reset_index(name = 'con_retraso')\n",
    "sin_retraso_estados_origen = sin_retraso_llegada.groupby(['estado_origen']).size().reset_index(name = 'sin_retraso')\n",
    "\n",
    "estados = retrasos_estados_origen.merge(sin_retraso_estados_origen, on = 'estado_origen', how =  'left').fillna(0)\n",
    "estados.head()"
   ]
  },
  {
   "cell_type": "code",
   "execution_count": 34,
   "metadata": {},
   "outputs": [],
   "source": [
    "estados_EEUU = {\n",
    "    'TX': 'Texas',\n",
    "    'OH': 'Ohio',\n",
    "    'GA': 'Georgia',\n",
    "    'MS': 'Mississippi',\n",
    "    'FL': 'Florida',\n",
    "    'NC': 'North Carolina',\n",
    "    'ND': 'North Dakota',\n",
    "    'PA': 'Pennsylvania',\n",
    "    'MO': 'Missouri',\n",
    "    'AK': 'Alaska',\n",
    "    'HI': 'Hawaii',\n",
    "    'MI': 'Michigan',\n",
    "    'MT': 'Montana',\n",
    "    'NE': 'Nebraska',\n",
    "    'NJ': 'New Jersey',\n",
    "    'TN': 'Tennessee',\n",
    "    'WI': 'Wisconsin',\n",
    "    'LA': 'Louisiana',\n",
    "    'WY': 'Wyoming',\n",
    "    'NV': 'Nevada',\n",
    "    'OK': 'Oklahoma',\n",
    "    'WV': 'West Virginia',\n",
    "    'ID': 'Idaho',\n",
    "    'KY': 'Kentucky',\n",
    "    'KS': 'Kansas',\n",
    "    'AR': 'Arkansas',\n",
    "    'CA': 'California',\n",
    "    'CO': 'Colorado',\n",
    "    'NH': 'New Hampshire',\n",
    "    'IA': 'Iowa',\n",
    "    'OR': 'Oregon',\n",
    "    'MN': 'Minnesota',\n",
    "    'UT': 'Utah',\n",
    "    'AL': 'Alabama',\n",
    "    'IL': 'Illinois',\n",
    "    'SC': 'South Carolina',\n",
    "    'NY': 'New York',\n",
    "    'VA': 'Virginia',\n",
    "    'MD': 'Maryland',\n",
    "    'TT': 'Trust Territory',\n",
    "    'WA': 'Washington',\n",
    "    'AZ': 'Arizona',\n",
    "    'SD': 'South Dakota',\n",
    "    'PR': 'Puerto Rico',\n",
    "    'ME': 'Maine',\n",
    "    'RI': 'Rhode Island',\n",
    "    'NM': 'New Mexico',\n",
    "    'IN': 'Indiana',\n",
    "    'DC': 'District of Columbia',\n",
    "    'DE': 'Delaware',\n",
    "    'MA': 'Massachusetts',\n",
    "    'VT': 'Vermont',\n",
    "    'VI': 'Virgin Islands',\n",
    "    'CT': 'Connecticut'\n",
    "}"
   ]
  },
  {
   "cell_type": "code",
   "execution_count": null,
   "metadata": {},
   "outputs": [],
   "source": [
    "estados['estado_origen'] = estados['estado_origen'].map(estados_EEUU)\n",
    "\n",
    "fig = px.bar(estados, \n",
    "             x                  = 'estado_origen', \n",
    "             y                  = ['con_retraso', 'sin_retraso'], \n",
    "             title              = 'Cantidad de vuelos con y sin retraso en la llegada desde estado de origen.',\n",
    "             labels             = {'estado_origen': 'Estado', 'value': 'Cantidad de vuelos'},\n",
    "             opacity            = 0.8, \n",
    "             color_discrete_map = {\"con_retraso\": \"gray\", \"sin_retraso\": \"skyblue\"})\n",
    "\n",
    "fig.update_layout(title_x = 0.5, xaxis = {'categoryorder': 'total descending'})\n",
    "\n",
    "fig.show()"
   ]
  },
  {
   "cell_type": "markdown",
   "metadata": {},
   "source": [
    "Los estados de Texas, California y Florida tienen el mayor número de vuelos, en ese orden. Sin embargo, en términos de retrasos, Florida lidera, seguido de Texas y luego California.\n",
    "El hecho de que Florida experimente más retrasos sugiere que pueden existir desafíos adicionales en los aeropuertos de Florida que afectan la puntualidad de los vuelos. Esto podría deberse a una variedad de factores, como la congestión del tráfico aéreo, la capacidad de los aeropuertos, o problemas específicos de gestión de vuelos en esa región."
   ]
  },
  {
   "cell_type": "markdown",
   "metadata": {},
   "source": [
    "### Millas\n",
    "Las millas mínimas registradas son 32.06 y las máximas alcanzan 5081.93. La mediana de las millas es de 692, y se observan valores atípicos a partir de 2087 millas."
   ]
  },
  {
   "cell_type": "code",
   "execution_count": null,
   "metadata": {},
   "outputs": [],
   "source": [
    "fig = px.box(data_frame= df,\n",
    "                   x = 'distancia_millas')\n",
    "\n",
    "fig.update_layout(title='Diagrama de Caja de la Distancia en Millas', title_x=0.5)\n",
    "fig.show()"
   ]
  },
  {
   "cell_type": "markdown",
   "metadata": {},
   "source": [
    "La amplia gama de millas registradas sugiere una gran variabilidad en las distancias de los vuelos. La mediana de 692 indica que la mitad de los vuelos tienen una distancia menor a este valor, lo que sugiere que la mayoría de los vuelos son de corta o media distancia. "
   ]
  },
  {
   "cell_type": "markdown",
   "metadata": {},
   "source": [
    "### Histograma de millas\n",
    "Es interesante observar que la media está alrededor de 825-830 millas, mientras que la mediana está en un rango más bajo, aproximadamente entre 690 y 695 millas. "
   ]
  },
  {
   "cell_type": "code",
   "execution_count": null,
   "metadata": {},
   "outputs": [],
   "source": [
    "fig = px.histogram(df, x=\"distancia_millas\", title=\"Histograma de Distancia en Millas\",\n",
    "                    opacity                 = 0.8)\n",
    "media = np.mean(df['distancia_millas'])\n",
    "mediana = np.median(df['distancia_millas'])\n",
    "\n",
    "fig.add_vline(x=media, line_dash=\"dash\", line_color=\"red\", name=\"Media\")\n",
    "fig.add_vline(x=mediana, line_dash=\"dash\", line_color=\"green\", name=\"Mediana\")\n",
    "\n",
    "fig.update_layout(title_x=0.5)\n",
    "fig.show()"
   ]
  },
  {
   "cell_type": "markdown",
   "metadata": {},
   "source": [
    "Parece que hay una discrepancia entre la media y la mediana en el histograma. Esta diferencia sugiere que hay algunos vuelos de larga distancia que están influyendo en la media y desplazándola hacia valores más altos, mientras que la mayoría de los vuelos se concentran en distancias más cortas, lo que se refleja en la mediana. Los vuelos internos en Estados Unidos tienden a cubrir distancias más cortas."
   ]
  },
  {
   "cell_type": "markdown",
   "metadata": {},
   "source": [
    "### Relación Millas-Retrasos\n",
    "Creamos un gráfico de barras para mostrar la distribución de vuelos en diferentes rangos de millas, junto con la cantidad de vuelos que experimentaron retrasos y los que no."
   ]
  },
  {
   "cell_type": "code",
   "execution_count": null,
   "metadata": {},
   "outputs": [],
   "source": [
    "retraso_millas = df[df['retraso_llegada'] > 15]\n",
    "sin_retraso_millas = df[df['retraso_llegada'] <= 15]\n",
    "\n",
    "def asignar_rango_millas(milla):\n",
    "    if milla < 500:\n",
    "        return 'menos de 500'\n",
    "    elif 500 <= milla < 1000:\n",
    "        return '500-1000'\n",
    "    elif 1000 <= milla < 1500:\n",
    "        return '1000-1500'\n",
    "    elif 1500 <= milla < 2000:\n",
    "        return '1500-2000'\n",
    "    else:\n",
    "        return 'más de 2000'\n",
    "\n",
    "retraso_millas['rango_millas'] = retraso_millas['distancia_millas'].apply(asignar_rango_millas)\n",
    "sin_retraso_millas['rango_millas'] = sin_retraso_millas['distancia_millas'].apply(asignar_rango_millas)\n",
    "\n",
    "retrasos_estados_origen = retraso_millas.groupby(['rango_millas']).size().reset_index(name='con_retraso')\n",
    "sin_retraso_estados_origen = sin_retraso_millas.groupby(['rango_millas']).size().reset_index(name='sin_retraso')\n",
    "\n",
    "millas = retrasos_estados_origen.merge(sin_retraso_estados_origen, on='rango_millas', how='left').fillna(0)"
   ]
  },
  {
   "cell_type": "code",
   "execution_count": null,
   "metadata": {},
   "outputs": [],
   "source": [
    "millas"
   ]
  },
  {
   "cell_type": "code",
   "execution_count": null,
   "metadata": {},
   "outputs": [],
   "source": [
    "fig = px.bar(millas, \n",
    "             x                  = 'rango_millas', \n",
    "             y                  = ['con_retraso', 'sin_retraso'], \n",
    "             title              = 'Cantidad de vuelos con y sin retraso en la llegada según el recorrido del vuelo.',\n",
    "             labels             = {'rango_millas': 'Rango de millas', 'value': 'Cantidad de vuelos'},\n",
    "             opacity            = 0.7, \n",
    "             color_discrete_map = {\"con_retraso\": \"gray\", \"sin_retraso\": \"violet\"})\n",
    "\n",
    "fig.update_layout(title_x = 0.5, xaxis = {'categoryorder': 'total descending'})\n",
    "\n",
    "fig.show()"
   ]
  },
  {
   "cell_type": "markdown",
   "metadata": {},
   "source": [
    "Parece haber una tendencia a que los vuelos de mayor distancia (más de 2000 millas) tengan menos retrasos en comparación con los vuelos de distancias más cortas (menos de 500 millas y de 500 a 1000 millas). "
   ]
  },
  {
   "cell_type": "markdown",
   "metadata": {},
   "source": [
    "### Diagrama de caja de retraso en la llegada\n",
    "Se consideran outliers todos los valores de retraso en la llegada que excedan los cinco minutos, siendo especialmente destacado un valor extremadamente separado de 2586 minutos, que equivalen a aproximadamente 43 horas y 6 minutos."
   ]
  },
  {
   "cell_type": "code",
   "execution_count": null,
   "metadata": {},
   "outputs": [],
   "source": [
    "fig = px.box(data_frame= df,x = 'retraso_llegada')\n",
    "\n",
    "fig.update_layout(title='Diagrama de Caja del retraso en la llegada', title_x=0.5)\n",
    "fig.show()"
   ]
  },
  {
   "cell_type": "markdown",
   "metadata": {},
   "source": [
    "Podemos concluir que la mayoría de los retrasos en la llegada están dentro de un rango de tiempo relativamente corto, con solo unos pocos casos excepcionales que presentan retrasos significativamente más largos. Este valor extremadamente alto de 2586 minutos destaca como un outlier extremo en comparación con la mayoría de los retrasos en la llegada."
   ]
  },
  {
   "cell_type": "markdown",
   "metadata": {},
   "source": [
    "Observamos el día con mayor retraso."
   ]
  },
  {
   "cell_type": "code",
   "execution_count": null,
   "metadata": {},
   "outputs": [],
   "source": [
    "mayor_retraso= df.loc[df[\"retraso_llegada\"] == 2586]\n",
    "mayor_retraso[[\"fecha\", \"ciudad_origen\", \"ciudad_destino\", \"aerolinea\", \"aeropuerto_origen\", \"aeropuerto_destino\"]]"
   ]
  },
  {
   "cell_type": "markdown",
   "metadata": {},
   "source": [
    "Se observa que durante ese día ocurrió un ciclón que causó grandes destrozos en diversas ciudades del estado de Tennessee, con especial impacto en la capital, Nashville.\n",
    "\n",
    "https://www.elperiodico.com/es/vida-y-estilo/20231211/tornado-estados-unidos-tennesse-videos-dv-95684507"
   ]
  },
  {
   "cell_type": "markdown",
   "metadata": {},
   "source": [
    "### Generamos un gráfico de barras agrupando los retrasos en la llegada en intervalos de cinco minutos\n",
    "Excluimos el intervalo de 0 a 5 minutos, ya que no lo consideramos un retraso significativo. La mediana se encuentra en el rango de 40 a 50 minutos. Observamos que la mayoría de los retrasos se concentran en la primera hora."
   ]
  },
  {
   "cell_type": "code",
   "execution_count": null,
   "metadata": {},
   "outputs": [],
   "source": [
    "# Número de retrasos por intervalo\n",
    "\n",
    "intervalos = list(range(0, df['retraso_llegada'].max() + 6, 5))\n",
    "\n",
    "df['intervalo'] = pd.cut(df['retraso_llegada'], bins=intervalos, right=False)\n",
    "\n",
    "tabla = df.groupby('intervalo').size().reset_index(name='numero_de_retrasos')\n",
    "tabla['intervalo'] = tabla['intervalo'].astype(str)\n",
    "\n",
    "tabla_filtrada = tabla[tabla['numero_de_retrasos'] >= 1]\n",
    "tabla_filtrada= tabla_filtrada[1:]\n",
    "tabla_filtrada.head()"
   ]
  },
  {
   "cell_type": "code",
   "execution_count": null,
   "metadata": {},
   "outputs": [],
   "source": [
    "mediana_retrasos = tabla_filtrada['numero_de_retrasos'].median()\n",
    "\n",
    "fig = px.bar(tabla_filtrada[:40], x='intervalo', y='numero_de_retrasos', opacity= 0.8)\n",
    "\n",
    "fig.update_layout(title='Número de Retrasos por Intervalo (Hasta 200 Minutos)',\n",
    "                  xaxis_title='Intervalo de Retraso',\n",
    "                  yaxis_title='Número de Retrasos', title_x=0.5)\n",
    "\n",
    "fig.add_vline(x=mediana_retrasos, line_dash=\"dash\", line_color=\"green\", name=\"Mediana\")\n",
    "\n",
    "fig.show()"
   ]
  },
  {
   "cell_type": "markdown",
   "metadata": {},
   "source": [
    "Los retrasos tienden a ocurrir con mayor frecuencia durante el primer tramo de tiempo después de la hora programada de llegada de los vuelos. Esto puede deberse a diversos factores, como la congestión del tráfico aéreo, problemas de programación de vuelos o retrasos en el proceso de desembarque y llegada de pasajeros. "
   ]
  },
  {
   "cell_type": "markdown",
   "metadata": {},
   "source": [
    "### Separamos las aerolíneas según su categoría de costo: alto, medio y bajo\n",
    "Observamos que hay más vuelos en la categoría de alto costo, seguida por la de bajo costo y luego la de medio costo."
   ]
  },
  {
   "cell_type": "code",
   "execution_count": null,
   "metadata": {},
   "outputs": [],
   "source": [
    "diccionario_costo = {\n",
    "    'alto_costo': [\"Delta Air Lines\", \"American Airlines\", \"United Airlines\", \"Alaska Airlines\", \"Hawaiian Airlines\"],\n",
    "    'medio_costo': [\"Southwest Airlines\", \"JetBlue Airways\"],\n",
    "    'bajo_costo': ['Allegiant Air', 'Frontier Airlines', 'Spirit Airlines', 'Envoy Air', 'SkyWest Airlines', 'PSA Airlines', \n",
    "                'Endeavor Air', 'Mesa Airlines', 'Republic Airways', 'Horizon Air']}\n",
    "\n",
    "def asignar_costo(aerolinea):\n",
    "    for costo, aerolineas in diccionario_costo.items():\n",
    "        if aerolinea in aerolineas:\n",
    "            return costo\n",
    "\n",
    "df_copia['costo_aerolinea'] = df_copia['aerolinea'].apply(asignar_costo)\n",
    "\n",
    "vuelos_aerolinea = df_copia.groupby(['costo_aerolinea']).size().reset_index(name ='numero_vuelos')\n",
    "\n",
    "fig = px.bar(data_frame = vuelos_aerolinea,\n",
    "             x          = 'costo_aerolinea',\n",
    "             y          = 'numero_vuelos',\n",
    "             opacity                 = 0.8,\n",
    "             title      = \"Cantidad de Vuelos según el costo de la aerolínea\",\n",
    "             color      = 'costo_aerolinea')\n",
    "\n",
    "fig.update_layout(title_x=0.5, xaxis_title='Compañía Aérea', yaxis_title='Cantidad de Vuelos', xaxis = {'categoryorder' : 'total descending'})\n",
    "fig.show()"
   ]
  },
  {
   "cell_type": "markdown",
   "metadata": {},
   "source": [
    "En términos de cantidad de vuelos, las aerolíneas de alto costo son las más frecuentes. Esto podría sugerir que hay una demanda significativa de vuelos de alto costo, lo que podría estar relacionado con factores como la preferencia de los pasajeros por comodidades adicionales, rutas específicas o frecuencia de vuelos. Por otro lado, las aerolíneas de bajo costo pueden ser preferidas por aquellos que buscan opciones más económicas."
   ]
  },
  {
   "cell_type": "markdown",
   "metadata": {},
   "source": [
    "### Generamos un gráfico de barras para comparar los retrasos en las aerolíneas según su categoría de costo.\n",
    "Observamos que las aerolíneas de costo medio tienen un mayor número de retrasos en comparación con las de bajo costo, a pesar de tener más vuelos en total."
   ]
  },
  {
   "cell_type": "code",
   "execution_count": null,
   "metadata": {},
   "outputs": [],
   "source": [
    "df_copia['sin_retraso_llegada'] = (df_copia['retraso_llegada'] <= 15).astype(int)\n",
    "df_copia['con_retraso_llegada'] = (df_copia['retraso_llegada'] > 15).astype(int)\n",
    "\n",
    "vuelos_aerolinea = df_copia.groupby('costo_aerolinea').agg({'sin_retraso_llegada': 'sum','con_retraso_llegada': 'sum'}).reset_index()\n",
    "\n",
    "fig = px.bar(vuelos_aerolinea, x='costo_aerolinea', y=['sin_retraso_llegada', 'con_retraso_llegada'],\n",
    "             title='Número de Vuelos con y sin retraso por aerolínea',\n",
    "             labels={'value': 'Número de Vuelos', 'costo_aerolinea': 'Aerolínea', 'variable': 'Tipo de Vuelo'},\n",
    "             barmode='group', opacity = 0.8)\n",
    "             \n",
    "fig.update_layout(title_x=0.5, xaxis = {'categoryorder': 'total descending'})\n",
    "fig.show()"
   ]
  },
  {
   "cell_type": "markdown",
   "metadata": {},
   "source": [
    "Una conclusión que podemos sacar es que el hecho de que una aerolínea en EEUU sea de costo medio no garantiza una mejor gestión operativa o logística en comparación con las aerolíneas de bajo costo. "
   ]
  },
  {
   "cell_type": "markdown",
   "metadata": {},
   "source": [
    "# Conclusiones finales del EDA\n",
    "\n",
    "- **Tendencia de crecimiento en el número de vuelos**: A lo largo de los años analizados, se observa un incremento en el número de vuelos. Esto puede indicar un aumento en la demanda de viajes aéreos internos en EEUU.\n",
    "\n",
    "- **Variedad en el desempeño de las aerolíneas**: Existe una variabilidad significativa en la cantidad de vuelos realizados por cada compañía aérea. Las aerolíneas más grandes, como Southwest Airlines y American Airlines, lideran en número de vuelos, mientras que las más pequeñas tienen una presencia más limitada.\n",
    "\n",
    "- **Relación entre retrasos en la salida y llegada**: Se observa una relación positiva moderadamente fuerte entre los retrasos en la salida y los retrasos en la llegada de los vuelos. Esto sugiere que los vuelos que experimentan retrasos en la salida tienden a experimentar retrasos similares en la llegada.\n",
    "\n",
    "- **Impacto de los días festivos en los retrasos**: Durante los días festivos, se registra un aumento significativo en la incidencia de retrasos tanto en la salida como en la llegada de los vuelos, en comparación con los días laborables. Esto puede deberse a una combinación de factores, como la mayor congestión en los aeropuertos y los cambios en las operaciones de las aerolíneas.\n",
    "\n",
    "- **Desafíos en la puntualidad de los vuelos**: Algunos estados, como Florida, experimentan más retrasos en comparación con otros, a pesar de tener un alto número de vuelos. Esto sugiere que pueden existir desafíos adicionales en los aeropuertos de esos estados que afectan la puntualidad de los vuelos.\n",
    "\n",
    "- **Impacto de la distancia en los retrasos**: Existe una tendencia a que los vuelos de mayor distancia tengan menos retrasos en comparación con los vuelos de distancias más cortas. Esto puede ser útil para las aerolíneas al planificar sus rutas y horarios para minimizar los retrasos.\n",
    "\n",
    "- **Desempeño operativo de las aerolíneas según su categoría de costo**: Las aerolíneas de costo medio tienen un mayor número de retrasos en comparación con las aerolíneas de bajo costo, a pesar de tener más vuelos en total. Esto sugiere que el costo de los vuelos no necesariamente está relacionado con la puntualidad o la eficiencia operativa de las aerolíneas."
   ]
  }
 ],
 "metadata": {
  "kernelspec": {
   "display_name": "Python 3",
   "language": "python",
   "name": "python3"
  },
  "language_info": {
   "codemirror_mode": {
    "name": "ipython",
    "version": 3
   },
   "file_extension": ".py",
   "mimetype": "text/x-python",
   "name": "python",
   "nbconvert_exporter": "python",
   "pygments_lexer": "ipython3",
   "version": "3.11.4"
  }
 },
 "nbformat": 4,
 "nbformat_minor": 2
}
