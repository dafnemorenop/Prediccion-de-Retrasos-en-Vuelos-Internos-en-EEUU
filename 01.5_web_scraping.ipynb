{
 "cells": [
  {
   "cell_type": "markdown",
   "metadata": {},
   "source": [
    "### Este notebook recopila información sobre los días festivos en Estados Unidos entre 2019 y 2023 en el sitio web: https://www.cuandoenelmundo.com/calendario/estados-unidos/2023"
   ]
  },
  {
   "cell_type": "code",
   "execution_count": 97,
   "metadata": {},
   "outputs": [],
   "source": [
    "from bs4 import BeautifulSoup\n",
    "import requests\n",
    "import pandas as pd"
   ]
  },
  {
   "cell_type": "markdown",
   "metadata": {},
   "source": [
    "Creamos una función \"fechar_festivos\" para recopilar los días festivos en EEUU, correspondientes a los años en los que descargamos datos de vuelos, utilizando web scraping.\n",
    "\n",
    "- Define tres listas vacías para almacenar los días, meses y los años del día festivo.\n",
    "- Itera sobre los años desde 2019 hasta 2023.\n",
    "- Para cada año, construye una URL correspondiente al calendario de días festivos en Estados Unidos.\n",
    "- Realiza una solicitud HTTP GET a esa URL y analiza el contenido HTML utilizando BeautifulSoup.\n",
    "- Busca los elementos HTML que contienen los días festivos y los meses festivos, identificados por sus clases CSS.\n",
    "- Extrae los días festivos y los meses festivos de los elementos encontrados y los agrega a las listas correspondientes.\n",
    "- Crea un DataFrame de pandas con tres columnas: \"dia\", \"mes\" y \"ano\", utilizando las listas creadas anteriormente.\n",
    "- Mapea los nombres de los meses a números de mes utilizando un diccionario predefinido.\n",
    "- Convierte las columnas \"dia\", \"mes\" y \"ano\" a tipos de datos apropiados.\n",
    "- Crea una nueva columna llamada \"festivos\" que contiene objetos datetime combinando las columnas \"ano\", \"mes\" y \"dia\".\n",
    "- Lo guarda en un archivo pickle llamado \"fecha_festivos.pkl\"."
   ]
  },
  {
   "cell_type": "code",
   "execution_count": 123,
   "metadata": {},
   "outputs": [],
   "source": [
    "def fechar_festivos():\n",
    "\n",
    "    dias_festivos = list()\n",
    "    mes_festivos = list()  \n",
    "    years = list()\n",
    "\n",
    "    for year in range(2019, 2024):\n",
    "\n",
    "        url = f'https://www.cuandoenelmundo.com/calendario/estados-unidos/{year}'\n",
    "        response = requests.get(url)\n",
    "        soup = BeautifulSoup(response.text, \"html.parser\")\n",
    "\n",
    "        # Dia_rojo\n",
    "        reddays = soup.find_all('td', class_ = 'day redday')\n",
    "\n",
    "\n",
    "        for d in reddays:\n",
    "            dias_festivos.append(d.text)    \n",
    "\n",
    "        # Mes_rojo\n",
    "        redmonths = soup.find_all('td', class_ = 'month redday')\n",
    "\n",
    "\n",
    "        for m in redmonths:\n",
    "            mes_festivos.append(m.text)\n",
    "\n",
    "        #Año\n",
    "        for y in reddays:\n",
    "            years.append(year)\n",
    "\n",
    "    df = pd.DataFrame()\n",
    "    df['dia'] = dias_festivos\n",
    "    df['mes'] = mes_festivos\n",
    "    df['ano'] = years\n",
    "\n",
    "    diccionario = {'enero'     : 1,\n",
    "                   'febrero'   : 2,\n",
    "                   'marzo'     : 3,\n",
    "                   'abril'     : 4,\n",
    "                   'mayo'      : 5,\n",
    "                   'junio'     : 6,\n",
    "                   'julio'     : 7,\n",
    "                   'agosto'    : 8,\n",
    "                   'septiembre': 9,\n",
    "                   'octubre'   : 10,\n",
    "                   'noviembre' : 11,\n",
    "                   'diciembre' : 12}\n",
    "    \n",
    "    df['dia'] = df['dia'].astype(int)\n",
    "    df['mes'] = df['mes'].map(diccionario)\n",
    "    df[\"festivos\"] = pd.to_datetime(df[\"ano\"].astype(str) + '-' + df[\"mes\"].astype(str) + '-' + df[\"dia\"].astype(str))\n",
    "\n",
    "    df.to_pickle('fecha_festivos.pkl')\n",
    "\n",
    "    return\n",
    "\n",
    "fechar_festivos()"
   ]
  }
 ],
 "metadata": {
  "kernelspec": {
   "display_name": "Python 3",
   "language": "python",
   "name": "python3"
  },
  "language_info": {
   "codemirror_mode": {
    "name": "ipython",
    "version": 3
   },
   "file_extension": ".py",
   "mimetype": "text/x-python",
   "name": "python",
   "nbconvert_exporter": "python",
   "pygments_lexer": "ipython3",
   "version": "3.11.8"
  }
 },
 "nbformat": 4,
 "nbformat_minor": 2
}
