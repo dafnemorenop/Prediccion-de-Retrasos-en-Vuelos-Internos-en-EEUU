{
 "cells": [
  {
   "cell_type": "markdown",
   "metadata": {},
   "source": [
    "### Este notebook presenta un proceso automatizado para navegar en la página web y extraer datos sobre vuelos dentro de los Estados Unidos desde el sitio web: https://www.transtats.bts.gov/ONTIME/Departures.aspx\n"
   ]
  },
  {
   "cell_type": "code",
   "execution_count": 8,
   "metadata": {},
   "outputs": [],
   "source": [
    "from bs4 import BeautifulSoup\n",
    "import requests\n",
    "from selenium import webdriver\n",
    "from selenium.webdriver.common.by import By\n",
    "from selenium.webdriver.support.ui import Select\n",
    "from selenium.webdriver.support.ui import WebDriverWait\n",
    "from selenium.webdriver.support import expected_conditions as EC\n",
    "from time import sleep"
   ]
  },
  {
   "cell_type": "markdown",
   "metadata": {},
   "source": [
    "Primero, almacenamos la URL de la página web de vuelos de la que extraeremos la información. Luego, creamos una función diseñada para desplegar y extraer las opciones disponibles. La función realiza una solicitud GET a la URL, analiza el HTML de la página y extrae las opciones del menú.\n",
    "\n",
    "Una vez creada la función, la utilizamos dos veces: primero para obtener la lista de aeropuertos y luego para obtener la lista de aerolíneas. Estas listas nos permitirán, más adelante, iterar sobre ellas en un bucle, seleccionando para cada aeropuerto todas las aerolíneas disponibles."
   ]
  },
  {
   "cell_type": "code",
   "execution_count": 9,
   "metadata": {},
   "outputs": [],
   "source": [
    "url = \"https://www.transtats.bts.gov/ONTIME/Departures.aspx\"\n",
    "\n",
    "def obtener_opciones(url, aeropuertos_aerolineas):\n",
    "    \"\"\"Con esta función se seleccionan los aeropuertos o las aerolíneas que están en un desplegable\"\"\"\n",
    "    response = requests.get(url)\n",
    "    soup = BeautifulSoup(response.text, 'html.parser')\n",
    "\n",
    "    seleccionar_aeropuerto_aerolinea = soup.find(\"select\", attrs={\"name\": aeropuertos_aerolineas})\n",
    "    opciones = seleccionar_aeropuerto_aerolinea.find_all(\"option\")\n",
    "\n",
    "    listado_opciones = [opcion.text for opcion in opciones]\n",
    "\n",
    "    return listado_opciones\n",
    "\n",
    "listado_aeropuertos = obtener_opciones(url, \"cboAirport\")\n",
    "listado_aerolineas  = obtener_opciones(url, \"cboAirline\")"
   ]
  },
  {
   "cell_type": "markdown",
   "metadata": {},
   "source": [
    "Esta función automatiza la selección de elementos en un menú desplegable. Se utiliza específicamente para seleccionar los aeropuertos y aerolíneas previamente almacenados en dos listas. La elección de By.NAME se debe al hecho de que estos elementos están identificados por su nombre en el código HTML."
   ]
  },
  {
   "cell_type": "code",
   "execution_count": 5,
   "metadata": {},
   "outputs": [],
   "source": [
    "def seleccionar_por_indice(url, nombre_seleccionado, lista_elementos):\n",
    "    \"\"\"Esta función selecciona los aeropuertos y las aerolineas en el menú desplegable\"\"\"\n",
    "    driver = webdriver.Firefox()\n",
    "    driver.get(url)\n",
    "\n",
    "    seleccion = Select(driver.find_element(By.NAME, nombre_seleccionado))\n",
    "    \n",
    "    for elemento in lista_elementos:\n",
    "        seleccion.select_by_visible_text(elemento)\n",
    "        sleep(1) "
   ]
  },
  {
   "cell_type": "markdown",
   "metadata": {},
   "source": [
    "La función preselecciones se utiliza al inicio para marcar de antemano todas las estadísticas (por qué sale tarde, el tiempo que tarda en despegar...), todos los días del mes, el mes de diciembre y los tres años con los que hemos hecho el trabajo. "
   ]
  },
  {
   "cell_type": "code",
   "execution_count": 6,
   "metadata": {},
   "outputs": [],
   "source": [
    "def preselecciones(driver):\n",
    "    \"\"\"Preselecciona las casillas necesarias para la extracción\"\"\"\n",
    "    driver.find_element(By.ID, \"chkAllStatistics\").click() \n",
    "    driver.find_element(By.ID, \"chkAllDays\").click()  \n",
    "    driver.find_element(By.ID, \"chkMonths_11\").click()     # click_mes_diciembre\n",
    "    \n",
    "    # Selecciona 2021, 2022 y 2023\n",
    "    driver.find_element(By.ID, \"chkYears_34\").click()\n",
    "    driver.find_element(By.ID, \"chkYears_35\").click() \n",
    "    driver.find_element(By.ID, \"chkYears_36\").click() "
   ]
  },
  {
   "cell_type": "markdown",
   "metadata": {},
   "source": [
    "Este script automatiza el proceso de extracción de datos de la página web para cada combinación de aeropuertos y aerolíneas\n",
    "\n",
    "- Iniciamos el navegador Firefox usando Selenium y se carga la URL especificada.\n",
    "- Llamamos a la función preselecciones para marcar las opciones de estadísticas, días, meses y años antes de comenzar la extracción.\n",
    "- Se inicia un bucle que itera sobre cada aeropuerto en la lista listado_aeropuertos.\n",
    "- Se inicia otro bucle dentro del bucle anterior, que itera sobre cada aerolínea en la lista listado_aerolineas.\n",
    "- Se desplaza la página hacia abajo para asegurar que se pueda hacer clic en el enlace de descarga de los .CSV.\n",
    "- Si ese aeropuerto con esa aerolínea no opera, se pasa.\n",
    "- Cuando termina cierra el navegador"
   ]
  },
  {
   "cell_type": "code",
   "execution_count": 9,
   "metadata": {},
   "outputs": [],
   "source": [
    "driver = webdriver.Firefox()\n",
    "driver.get(url)\n",
    "\n",
    "preselecciones(driver)\n",
    "\n",
    "for aeropuerto in listado_aeropuertos:\n",
    "\n",
    "    select_aeropuerto = Select(driver.find_element(By.NAME, \"cboAirport\"))\n",
    "    select_aeropuerto.select_by_visible_text(aeropuerto)\n",
    "\n",
    "    # sleep(1)\n",
    "    for aerolinea in listado_aerolineas:\n",
    "\n",
    "        select_aerolinea = Select(driver.find_element(By.NAME, \"cboAirline\"))\n",
    "        select_aerolinea.select_by_visible_text(aerolinea)\n",
    "    \n",
    "        click_submit = driver.find_element(By.ID, \"btnSubmit\").click()\n",
    "        \n",
    "        # sleep(1)\n",
    "        #el codigo de abajo hace una flecha hacia abajo,\n",
    "        driver.execute_script(\"window.scrollBy(0, 200);\")\n",
    "\n",
    "        try:\n",
    "            element = WebDriverWait(driver, 3).until(\n",
    "            EC.presence_of_element_located((By.ID, \"DL_CSV\")))\n",
    "            # sleep(1)\n",
    "            element.click()\n",
    "            \n",
    "        except:\n",
    "            pass\n",
    "\n",
    "driver.quit()"
   ]
  }
 ],
 "metadata": {
  "kernelspec": {
   "display_name": "Python 3",
   "language": "python",
   "name": "python3"
  },
  "language_info": {
   "codemirror_mode": {
    "name": "ipython",
    "version": 3
   },
   "file_extension": ".py",
   "mimetype": "text/x-python",
   "name": "python",
   "nbconvert_exporter": "python",
   "pygments_lexer": "ipython3",
   "version": "3.11.4"
  }
 },
 "nbformat": 4,
 "nbformat_minor": 2
}
