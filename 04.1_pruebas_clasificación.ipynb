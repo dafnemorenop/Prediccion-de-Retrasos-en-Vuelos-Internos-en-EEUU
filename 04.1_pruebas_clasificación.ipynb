{
 "cells": [
  {
   "cell_type": "code",
   "execution_count": 212,
   "metadata": {},
   "outputs": [],
   "source": [
    "import numpy as np\n",
    "import pandas as pd\n",
    "import matplotlib.pyplot as plt\n",
    "import plotly.express as px\n",
    "import plotly.graph_objects as go\n",
    "from datetime import datetime, timedelta\n",
    "from collections import Counter\n",
    "\n",
    "# Métodos de Validación\n",
    "from sklearn.model_selection import train_test_split\n",
    "\n",
    "# Modelos de Clasificación\n",
    "from sklearn.neighbors import KNeighborsClassifier\n",
    "from sklearn.neighbors import NearestCentroid\n",
    "from sklearn.naive_bayes import GaussianNB\n",
    "from sklearn.tree import DecisionTreeClassifier\n",
    "from sklearn.ensemble import RandomForestClassifier\n",
    "from sklearn.ensemble import AdaBoostClassifier\n",
    "from sklearn.ensemble import GradientBoostingClassifier\n",
    "\n",
    "# Métricas para Clasificación\n",
    "from sklearn.metrics import jaccard_score\n",
    "from sklearn.metrics import accuracy_score\n",
    "from sklearn.metrics import precision_score\n",
    "from sklearn.metrics import recall_score\n",
    "from sklearn.metrics import f1_score\n",
    "from sklearn.metrics import roc_auc_score\n",
    "from sklearn.metrics import confusion_matrix\n",
    "\n",
    "# OverSampling y UnderSampling\n",
    "from imblearn.over_sampling import SMOTE\n",
    "from imblearn.under_sampling import RandomUnderSampler\n",
    "from imblearn.pipeline import Pipeline"
   ]
  },
  {
   "cell_type": "code",
   "execution_count": 213,
   "metadata": {},
   "outputs": [],
   "source": [
    "df = pd.read_pickle(r'C:\\Users\\José\\Desktop\\proyecto_aviones\\data\\pickle\\vuelos_limpio.pkl')"
   ]
  },
  {
   "cell_type": "code",
   "execution_count": 214,
   "metadata": {},
   "outputs": [],
   "source": [
    "# Creamos la columna target y ya la binarizamos\n",
    "df[\"llega_tarde\"] = np.where(df['retraso_llegada'] > 15, 'si', 'no')\n",
    "df['llega_tarde'] = df['llega_tarde'].map({'si': 1, 'no': 0})"
   ]
  },
  {
   "cell_type": "code",
   "execution_count": 215,
   "metadata": {},
   "outputs": [],
   "source": [
    "# Eliminamos las columnas que no aportan información extra y retraso en la llegada para que no prediga el 100% de las veces y mes que solo tiene 1 valor\n",
    "columnas_eliminar = [\n",
    "    \"latitude_destino\",\n",
    "    \"latitude_origen\",\n",
    "    \"longitude_destino\",\n",
    "    \"longitude_origen\",\n",
    "    \"codigo_aeropuerto_destino\",\n",
    "    \"codigo_aeropuerto_origen\",\n",
    "    \"direccion_destino\",\n",
    "    \"direccion_origen\",\n",
    "    \"retraso_llegada\",\n",
    "    \"hora_llegada_real\",\n",
    "    \"mes\"\n",
    "]\n",
    "df.drop(columns=columnas_eliminar, inplace=True)\n"
   ]
  },
  {
   "cell_type": "code",
   "execution_count": 216,
   "metadata": {},
   "outputs": [],
   "source": [
    "diccionario_costo = {\n",
    "    'alto_costo': [\"Delta Air Lines\", \"American Airlines\", \"United Airlines\", \"Alaska Airlines\", \"Hawaiian Airlines\"],\n",
    "    'medio_costo': [\"Southwest Airlines\", \"JetBlue Airways\"],\n",
    "    'bajo_costo': ['Allegiant Air', 'Frontier Airlines', 'Spirit Airlines', 'Envoy Air', 'SkyWest Airlines', 'PSA Airlines', \n",
    "                'Endeavor Air', 'Mesa Airlines', 'Republic Airways', 'Horizon Air']}\n",
    "\n",
    "def asignar_costo(aerolinea):\n",
    "    for costo, aerolineas in diccionario_costo.items():\n",
    "        if aerolinea in aerolineas:\n",
    "            return costo\n",
    "\n",
    "df['aerolinea'] = df['aerolinea'].apply(asignar_costo)"
   ]
  },
  {
   "cell_type": "code",
   "execution_count": 217,
   "metadata": {},
   "outputs": [],
   "source": [
    "pesos_categorias = {'alto_costo': 2, 'medio_costo': 1, 'bajo_costo': 0} \n",
    "\n",
    "df['aerolinea'] = df['aerolinea'].map(pesos_categorias)"
   ]
  },
  {
   "cell_type": "code",
   "execution_count": 218,
   "metadata": {},
   "outputs": [],
   "source": [
    "# Cambiamos a minutos las columnas horarias\n",
    "\n",
    "df[\"hora_salida_real\"] = df[\"hora_salida_real\"].apply(lambda x: x.hour * 60 + x.minute)\n",
    "df[\"hora_salida_programada\"] = df[\"hora_salida_programada\"].apply(lambda x: x.hour * 60 + x.minute)\n",
    "\n",
    "df['hora_despegue'] = df['hora_despegue'].replace('24:00', '00:00')\n",
    "df['hora_despegue'] = pd.to_datetime(df['hora_despegue'], format='%H:%M').dt.hour * 60 + pd.to_datetime(df['hora_despegue'], format='%H:%M').dt.minute"
   ]
  },
  {
   "cell_type": "code",
   "execution_count": 219,
   "metadata": {},
   "outputs": [],
   "source": [
    "# Como da error el datetime de fecha, extraemos el día del mes, que es el único que nos falta, porque mes como todos tienen el mismo no hace falta\n",
    "# y sobbreescribimos la columna de fecha, \n",
    "\n",
    "df['fecha'] = df['fecha'].dt.day"
   ]
  },
  {
   "cell_type": "code",
   "execution_count": 220,
   "metadata": {},
   "outputs": [],
   "source": [
    "# Miramos las columnas object que tenemos que cambiar a numéricas para el modelo\n",
    "columnas_categoricas = df.select_dtypes(include=[\"object\"]).columns.tolist()"
   ]
  },
  {
   "cell_type": "code",
   "execution_count": 221,
   "metadata": {},
   "outputs": [],
   "source": [
    "def target_encoding(df, columna_categorica, target):\n",
    "\n",
    "    media_columna_con_target = df.groupby(columna_categorica)[target].mean()\n",
    "    df[columna_categorica] = df[columna_categorica].map(media_columna_con_target)\n",
    "    return\n",
    "\n",
    "# target_encoding(df, 'aerolinea', 'llega_tarde') esta ya no xk la he puesto un label encoding\n",
    "target_encoding(df, 'numero_cola', 'llega_tarde')\n",
    "target_encoding(df, 'ciudad_origen', 'llega_tarde')\n",
    "target_encoding(df, 'estado_origen', 'llega_tarde')\n",
    "target_encoding(df, 'aeropuerto_origen', 'llega_tarde')\n",
    "target_encoding(df, 'ciudad_destino', 'llega_tarde')\n",
    "target_encoding(df, 'estado_destino', 'llega_tarde')\n",
    "target_encoding(df, 'aeropuerto_destino', 'llega_tarde')"
   ]
  },
  {
   "cell_type": "code",
   "execution_count": 222,
   "metadata": {},
   "outputs": [],
   "source": [
    "# aplico logaritmo\n",
    "\n",
    "df[\"distancia_millas\"] = np.log(df[\"distancia_millas\"] + 1) "
   ]
  },
  {
   "cell_type": "code",
   "execution_count": 223,
   "metadata": {},
   "outputs": [],
   "source": [
    "# Definimos la target\n",
    "\n",
    "TARGET = \"llega_tarde\"\n",
    "X = df.drop(columns = TARGET)\n",
    "y  = df[[TARGET]]"
   ]
  },
  {
   "cell_type": "code",
   "execution_count": 224,
   "metadata": {},
   "outputs": [
    {
     "name": "stdout",
     "output_type": "stream",
     "text": [
      "X_train: (1353980, 26), y_train: (1353980, 1)\n",
      "X_test: (338496, 26), y_test: (338496, 1)\n"
     ]
    }
   ],
   "source": [
    "X_train, X_test, y_train, y_test = train_test_split(X, y, test_size = 0.2, random_state = 42, stratify = y)\n",
    "print(f\"X_train: {X_train.shape}, y_train: {y_train.shape}\")\n",
    "print(f\"X_test: {X_test.shape}, y_test: {y_test.shape}\")"
   ]
  },
  {
   "cell_type": "code",
   "execution_count": 225,
   "metadata": {},
   "outputs": [
    {
     "name": "stdout",
     "output_type": "stream",
     "text": [
      "Counter({0: 1248772, 1: 105208})\n",
      "Porcentaje de \"0\": 92.23%\n",
      "Porcentaje de \"1\": 7.77%\n"
     ]
    }
   ],
   "source": [
    "# Analizamos la distribución de clases en el conjunto de datos. \n",
    "\n",
    "contador_clases= Counter([arr[0] for arr in list(y_train.values)])\n",
    "print(contador_clases)\n",
    "\n",
    "total = sum(contador_clases.values())\n",
    "for clase, count in contador_clases.items():\n",
    "    porcentaje = (count / total) * 100\n",
    "    print(f'Porcentaje de \"{clase}\": {porcentaje:.2f}%')"
   ]
  },
  {
   "cell_type": "code",
   "execution_count": 226,
   "metadata": {},
   "outputs": [],
   "source": [
    "# Definir las estrategias de balanceo\n",
    "undersampling = RandomUnderSampler(sampling_strategy=0.1)\n",
    "oversampling = SMOTE(sampling_strategy=0.6)\n",
    "\n",
    "# Definir la pipeline\n",
    "balance_pipeline = Pipeline([\n",
    "    ('undersampling', undersampling),\n",
    "    ('oversampling', oversampling)\n",
    "])\n",
    "\n",
    "# Aplicar la pipeline al conjunto de entrenamiento\n",
    "X_balanceado, y_balanceado = balance_pipeline.fit_resample(X_train, y_train)"
   ]
  },
  {
   "cell_type": "code",
   "execution_count": 227,
   "metadata": {},
   "outputs": [
    {
     "name": "stdout",
     "output_type": "stream",
     "text": [
      "Counter({0: 1052080, 1: 631248})\n",
      "Porcentaje de \"0\": 62.50%\n",
      "Porcentaje de \"1\": 37.50%\n"
     ]
    }
   ],
   "source": [
    "# Comprobamos que se han balanceado más \n",
    "contador_clases= Counter([arr[0] for arr in list(y_balanceado.values)])\n",
    "print(contador_clases)\n",
    "\n",
    "total = sum(contador_clases.values())\n",
    "for clase, count in contador_clases.items():\n",
    "    porcentaje = (count / total) * 100\n",
    "    print(f'Porcentaje de \"{clase}\": {porcentaje:.2f}%')"
   ]
  },
  {
   "cell_type": "code",
   "execution_count": 228,
   "metadata": {},
   "outputs": [
    {
     "name": "stderr",
     "output_type": "stream",
     "text": [
      "C:\\Users\\José\\AppData\\Local\\Packages\\PythonSoftwareFoundation.Python.3.11_qbz5n2kfra8p0\\LocalCache\\local-packages\\Python311\\site-packages\\sklearn\\base.py:1351: DataConversionWarning: A column-vector y was passed when a 1d array was expected. Please change the shape of y to (n_samples,), for example using ravel().\n",
      "  return fit_method(estimator, *args, **kwargs)\n",
      "C:\\Users\\José\\AppData\\Local\\Packages\\PythonSoftwareFoundation.Python.3.11_qbz5n2kfra8p0\\LocalCache\\local-packages\\Python311\\site-packages\\sklearn\\utils\\validation.py:1229: DataConversionWarning: A column-vector y was passed when a 1d array was expected. Please change the shape of y to (n_samples, ), for example using ravel().\n",
      "  y = column_or_1d(y, warn=True)\n",
      "C:\\Users\\José\\AppData\\Local\\Packages\\PythonSoftwareFoundation.Python.3.11_qbz5n2kfra8p0\\LocalCache\\local-packages\\Python311\\site-packages\\sklearn\\neighbors\\_classification.py:238: DataConversionWarning: A column-vector y was passed when a 1d array was expected. Please change the shape of y to (n_samples,), for example using ravel().\n",
      "  return self._fit(X, y)\n",
      "C:\\Users\\José\\AppData\\Local\\Packages\\PythonSoftwareFoundation.Python.3.11_qbz5n2kfra8p0\\LocalCache\\local-packages\\Python311\\site-packages\\sklearn\\preprocessing\\_label.py:114: DataConversionWarning: A column-vector y was passed when a 1d array was expected. Please change the shape of y to (n_samples, ), for example using ravel().\n",
      "  y = column_or_1d(y, warn=True)\n",
      "C:\\Users\\José\\AppData\\Local\\Packages\\PythonSoftwareFoundation.Python.3.11_qbz5n2kfra8p0\\LocalCache\\local-packages\\Python311\\site-packages\\sklearn\\utils\\validation.py:1229: DataConversionWarning: A column-vector y was passed when a 1d array was expected. Please change the shape of y to (n_samples, ), for example using ravel().\n",
      "  y = column_or_1d(y, warn=True)\n",
      "C:\\Users\\José\\AppData\\Local\\Packages\\PythonSoftwareFoundation.Python.3.11_qbz5n2kfra8p0\\LocalCache\\local-packages\\Python311\\site-packages\\sklearn\\utils\\validation.py:1229: DataConversionWarning: A column-vector y was passed when a 1d array was expected. Please change the shape of y to (n_samples, ), for example using ravel().\n",
      "  y = column_or_1d(y, warn=True)\n",
      "C:\\Users\\José\\AppData\\Local\\Packages\\PythonSoftwareFoundation.Python.3.11_qbz5n2kfra8p0\\LocalCache\\local-packages\\Python311\\site-packages\\sklearn\\ensemble\\_weight_boosting.py:519: FutureWarning: The SAMME.R algorithm (the default) is deprecated and will be removed in 1.6. Use the SAMME algorithm to circumvent this warning.\n",
      "  warnings.warn(\n"
     ]
    },
    {
     "data": {
      "text/html": [
       "<div>\n",
       "<style scoped>\n",
       "    .dataframe tbody tr th:only-of-type {\n",
       "        vertical-align: middle;\n",
       "    }\n",
       "\n",
       "    .dataframe tbody tr th {\n",
       "        vertical-align: top;\n",
       "    }\n",
       "\n",
       "    .dataframe thead th {\n",
       "        text-align: right;\n",
       "    }\n",
       "</style>\n",
       "<table border=\"1\" class=\"dataframe\">\n",
       "  <thead>\n",
       "    <tr style=\"text-align: right;\">\n",
       "      <th></th>\n",
       "      <th>Model</th>\n",
       "      <th>Jaccard Index</th>\n",
       "      <th>Accuracy</th>\n",
       "      <th>Precision</th>\n",
       "      <th>Recall</th>\n",
       "      <th>F1-score</th>\n",
       "      <th>ROC AUC</th>\n",
       "      <th>Specificity</th>\n",
       "    </tr>\n",
       "  </thead>\n",
       "  <tbody>\n",
       "    <tr>\n",
       "      <th>0</th>\n",
       "      <td>Random Forest</td>\n",
       "      <td>0.889988</td>\n",
       "      <td>0.981861</td>\n",
       "      <td>0.922004</td>\n",
       "      <td>0.958588</td>\n",
       "      <td>0.939363</td>\n",
       "      <td>0.958588</td>\n",
       "      <td>0.986143</td>\n",
       "    </tr>\n",
       "    <tr>\n",
       "      <th>1</th>\n",
       "      <td>Naive Bayes</td>\n",
       "      <td>0.492686</td>\n",
       "      <td>0.798630</td>\n",
       "      <td>0.592960</td>\n",
       "      <td>0.724478</td>\n",
       "      <td>0.605496</td>\n",
       "      <td>0.724478</td>\n",
       "      <td>0.812274</td>\n",
       "    </tr>\n",
       "    <tr>\n",
       "      <th>2</th>\n",
       "      <td>KNN</td>\n",
       "      <td>0.743817</td>\n",
       "      <td>0.943072</td>\n",
       "      <td>0.789327</td>\n",
       "      <td>0.919280</td>\n",
       "      <td>0.838564</td>\n",
       "      <td>0.919280</td>\n",
       "      <td>0.947449</td>\n",
       "    </tr>\n",
       "    <tr>\n",
       "      <th>3</th>\n",
       "      <td>Gradient Boosting</td>\n",
       "      <td>0.833966</td>\n",
       "      <td>0.968475</td>\n",
       "      <td>0.860888</td>\n",
       "      <td>0.962611</td>\n",
       "      <td>0.903790</td>\n",
       "      <td>0.962611</td>\n",
       "      <td>0.969554</td>\n",
       "    </tr>\n",
       "    <tr>\n",
       "      <th>4</th>\n",
       "      <td>Nearest Centroid</td>\n",
       "      <td>0.299281</td>\n",
       "      <td>0.526110</td>\n",
       "      <td>0.525651</td>\n",
       "      <td>0.589481</td>\n",
       "      <td>0.422933</td>\n",
       "      <td>0.589481</td>\n",
       "      <td>0.514449</td>\n",
       "    </tr>\n",
       "    <tr>\n",
       "      <th>5</th>\n",
       "      <td>Decision Tree</td>\n",
       "      <td>0.890983</td>\n",
       "      <td>0.982083</td>\n",
       "      <td>0.923466</td>\n",
       "      <td>0.958133</td>\n",
       "      <td>0.939963</td>\n",
       "      <td>0.958133</td>\n",
       "      <td>0.986489</td>\n",
       "    </tr>\n",
       "    <tr>\n",
       "      <th>6</th>\n",
       "      <td>AdaBoost Classifier</td>\n",
       "      <td>0.790969</td>\n",
       "      <td>0.957429</td>\n",
       "      <td>0.827657</td>\n",
       "      <td>0.942174</td>\n",
       "      <td>0.873940</td>\n",
       "      <td>0.942174</td>\n",
       "      <td>0.960236</td>\n",
       "    </tr>\n",
       "  </tbody>\n",
       "</table>\n",
       "</div>"
      ],
      "text/plain": [
       "                 Model  Jaccard Index  Accuracy  Precision    Recall  \\\n",
       "0        Random Forest       0.889988  0.981861   0.922004  0.958588   \n",
       "1          Naive Bayes       0.492686  0.798630   0.592960  0.724478   \n",
       "2                  KNN       0.743817  0.943072   0.789327  0.919280   \n",
       "3    Gradient Boosting       0.833966  0.968475   0.860888  0.962611   \n",
       "4     Nearest Centroid       0.299281  0.526110   0.525651  0.589481   \n",
       "5        Decision Tree       0.890983  0.982083   0.923466  0.958133   \n",
       "6  AdaBoost Classifier       0.790969  0.957429   0.827657  0.942174   \n",
       "\n",
       "   F1-score   ROC AUC  Specificity  \n",
       "0  0.939363  0.958588     0.986143  \n",
       "1  0.605496  0.724478     0.812274  \n",
       "2  0.838564  0.919280     0.947449  \n",
       "3  0.903790  0.962611     0.969554  \n",
       "4  0.422933  0.589481     0.514449  \n",
       "5  0.939963  0.958133     0.986489  \n",
       "6  0.873940  0.942174     0.960236  "
      ]
     },
     "execution_count": 228,
     "metadata": {},
     "output_type": "execute_result"
    }
   ],
   "source": [
    "def test_models(X, y):\n",
    "    # Definir modelos\n",
    "    models = {\n",
    "        \"Random Forest\"       : RandomForestClassifier(),\n",
    "        \"Naive Bayes\"         : GaussianNB(),\n",
    "        \"KNN\"                 : KNeighborsClassifier(),\n",
    "        \"Gradient Boosting\"   : GradientBoostingClassifier(),\n",
    "        'Nearest Centroid'    : NearestCentroid(),\n",
    "        'Decision Tree'       : DecisionTreeClassifier(),\n",
    "        'AdaBoost Classifier' : AdaBoostClassifier()\n",
    "    }\n",
    "\n",
    "    # DataFrame para almacenar los resultados de las métricas\n",
    "    results = list()\n",
    "\n",
    "    # Entrenar y evaluar cada modelo\n",
    "    for name, model in models.items():\n",
    "        model.fit(X, y)\n",
    "        y_pred = model.predict(X_test)\n",
    "\n",
    "        # Calcular métricas\n",
    "        jaccard_index = jaccard_score(y_test, y_pred, average=\"macro\")\n",
    "        accuracy = accuracy_score(y_test, y_pred)\n",
    "        precision = precision_score(y_test, y_pred, average=\"macro\")\n",
    "        recall = recall_score(y_test, y_pred, average=\"macro\")\n",
    "        f1_score_value = f1_score(y_test, y_pred, average=\"macro\")\n",
    "        roc_auc = roc_auc_score(y_test, y_pred)\n",
    "        conf_matrix = confusion_matrix(y_test, y_pred, labels=[0, 1])\n",
    "        tn, fp, fn, tp = conf_matrix.ravel()\n",
    "        specificity = tn / (tn + fp)\n",
    "\n",
    "        # Agregar resultados a la lista\n",
    "        results.append({\n",
    "            'Model': name,\n",
    "            'Jaccard Index': jaccard_index,\n",
    "            'Accuracy': accuracy,\n",
    "            'Precision': precision,\n",
    "            'Recall': recall,\n",
    "            'F1-score': f1_score_value,\n",
    "            'ROC AUC': roc_auc,\n",
    "            'Specificity': specificity\n",
    "        })\n",
    "\n",
    "    # Convertir la lista de resultados a un DataFrame\n",
    "    df_results = pd.DataFrame(results)\n",
    "\n",
    "    return df_results\n",
    "\n",
    "df_resultados = test_models(X_balanceado, y_balanceado)\n",
    "\n",
    "df_resultados"
   ]
  },
  {
   "cell_type": "code",
   "execution_count": 229,
   "metadata": {},
   "outputs": [
    {
     "data": {
      "text/html": [
       "<div>\n",
       "<style scoped>\n",
       "    .dataframe tbody tr th:only-of-type {\n",
       "        vertical-align: middle;\n",
       "    }\n",
       "\n",
       "    .dataframe tbody tr th {\n",
       "        vertical-align: top;\n",
       "    }\n",
       "\n",
       "    .dataframe thead th {\n",
       "        text-align: right;\n",
       "    }\n",
       "</style>\n",
       "<table border=\"1\" class=\"dataframe\">\n",
       "  <thead>\n",
       "    <tr style=\"text-align: right;\">\n",
       "      <th></th>\n",
       "      <th>Model</th>\n",
       "      <th>Jaccard Index</th>\n",
       "      <th>Accuracy</th>\n",
       "      <th>Precision</th>\n",
       "      <th>Recall</th>\n",
       "      <th>F1-score</th>\n",
       "      <th>ROC AUC</th>\n",
       "      <th>Specificity</th>\n",
       "    </tr>\n",
       "  </thead>\n",
       "  <tbody>\n",
       "    <tr>\n",
       "      <th>0</th>\n",
       "      <td>Random Forest</td>\n",
       "      <td>0.889988</td>\n",
       "      <td>0.981861</td>\n",
       "      <td>0.922004</td>\n",
       "      <td>0.958588</td>\n",
       "      <td>0.939363</td>\n",
       "      <td>0.958588</td>\n",
       "      <td>0.986143</td>\n",
       "    </tr>\n",
       "    <tr>\n",
       "      <th>1</th>\n",
       "      <td>Naive Bayes</td>\n",
       "      <td>0.492686</td>\n",
       "      <td>0.798630</td>\n",
       "      <td>0.592960</td>\n",
       "      <td>0.724478</td>\n",
       "      <td>0.605496</td>\n",
       "      <td>0.724478</td>\n",
       "      <td>0.812274</td>\n",
       "    </tr>\n",
       "    <tr>\n",
       "      <th>2</th>\n",
       "      <td>KNN</td>\n",
       "      <td>0.743817</td>\n",
       "      <td>0.943072</td>\n",
       "      <td>0.789327</td>\n",
       "      <td>0.919280</td>\n",
       "      <td>0.838564</td>\n",
       "      <td>0.919280</td>\n",
       "      <td>0.947449</td>\n",
       "    </tr>\n",
       "    <tr>\n",
       "      <th>3</th>\n",
       "      <td>Gradient Boosting</td>\n",
       "      <td>0.833966</td>\n",
       "      <td>0.968475</td>\n",
       "      <td>0.860888</td>\n",
       "      <td>0.962611</td>\n",
       "      <td>0.903790</td>\n",
       "      <td>0.962611</td>\n",
       "      <td>0.969554</td>\n",
       "    </tr>\n",
       "    <tr>\n",
       "      <th>4</th>\n",
       "      <td>Nearest Centroid</td>\n",
       "      <td>0.299281</td>\n",
       "      <td>0.526110</td>\n",
       "      <td>0.525651</td>\n",
       "      <td>0.589481</td>\n",
       "      <td>0.422933</td>\n",
       "      <td>0.589481</td>\n",
       "      <td>0.514449</td>\n",
       "    </tr>\n",
       "    <tr>\n",
       "      <th>5</th>\n",
       "      <td>Decision Tree</td>\n",
       "      <td>0.890983</td>\n",
       "      <td>0.982083</td>\n",
       "      <td>0.923466</td>\n",
       "      <td>0.958133</td>\n",
       "      <td>0.939963</td>\n",
       "      <td>0.958133</td>\n",
       "      <td>0.986489</td>\n",
       "    </tr>\n",
       "    <tr>\n",
       "      <th>6</th>\n",
       "      <td>AdaBoost Classifier</td>\n",
       "      <td>0.790969</td>\n",
       "      <td>0.957429</td>\n",
       "      <td>0.827657</td>\n",
       "      <td>0.942174</td>\n",
       "      <td>0.873940</td>\n",
       "      <td>0.942174</td>\n",
       "      <td>0.960236</td>\n",
       "    </tr>\n",
       "  </tbody>\n",
       "</table>\n",
       "</div>"
      ],
      "text/plain": [
       "                 Model  Jaccard Index  Accuracy  Precision    Recall  \\\n",
       "0        Random Forest       0.889988  0.981861   0.922004  0.958588   \n",
       "1          Naive Bayes       0.492686  0.798630   0.592960  0.724478   \n",
       "2                  KNN       0.743817  0.943072   0.789327  0.919280   \n",
       "3    Gradient Boosting       0.833966  0.968475   0.860888  0.962611   \n",
       "4     Nearest Centroid       0.299281  0.526110   0.525651  0.589481   \n",
       "5        Decision Tree       0.890983  0.982083   0.923466  0.958133   \n",
       "6  AdaBoost Classifier       0.790969  0.957429   0.827657  0.942174   \n",
       "\n",
       "   F1-score   ROC AUC  Specificity  \n",
       "0  0.939363  0.958588     0.986143  \n",
       "1  0.605496  0.724478     0.812274  \n",
       "2  0.838564  0.919280     0.947449  \n",
       "3  0.903790  0.962611     0.969554  \n",
       "4  0.422933  0.589481     0.514449  \n",
       "5  0.939963  0.958133     0.986489  \n",
       "6  0.873940  0.942174     0.960236  "
      ]
     },
     "execution_count": 229,
     "metadata": {},
     "output_type": "execute_result"
    }
   ],
   "source": [
    "df_resultados"
   ]
  },
  {
   "cell_type": "code",
   "execution_count": null,
   "metadata": {},
   "outputs": [
    {
     "name": "stderr",
     "output_type": "stream",
     "text": [
      "C:\\Users\\José\\AppData\\Local\\Packages\\PythonSoftwareFoundation.Python.3.11_qbz5n2kfra8p0\\LocalCache\\local-packages\\Python311\\site-packages\\plotly\\express\\_core.py:2065: FutureWarning:\n",
      "\n",
      "When grouping with a length-1 list-like, you will need to pass a length-1 tuple to get_group in a future version of pandas. Pass `(name,)` instead of `name` to silence this warning.\n",
      "\n"
     ]
    },
    {
     "data": {
      "application/vnd.plotly.v1+json": {
       "config": {
        "plotlyServerURL": "https://plot.ly"
       },
       "data": [
        {
         "alignmentgroup": "True",
         "hovertemplate": "variable=Jaccard Index<br>Modelo=%{x}<br>Valor=%{y}<extra></extra>",
         "legendgroup": "Jaccard Index",
         "marker": {
          "color": "#636efa",
          "pattern": {
           "shape": ""
          }
         },
         "name": "Jaccard Index",
         "offsetgroup": "Jaccard Index",
         "orientation": "v",
         "showlegend": true,
         "textposition": "auto",
         "type": "bar",
         "x": [
          "Random Forest",
          "Naive Bayes",
          "KNN",
          "Gradient Boosting",
          "Nearest Centroid",
          "Decision Tree",
          "AdaBoost Classifier"
         ],
         "xaxis": "x",
         "y": [
          0.8899881000146177,
          0.4926860466907105,
          0.743816568529259,
          0.8339660802275445,
          0.2992806135826126,
          0.8909825428480107,
          0.7909692456344144
         ],
         "yaxis": "y"
        },
        {
         "alignmentgroup": "True",
         "hovertemplate": "variable=Accuracy<br>Modelo=%{x}<br>Valor=%{y}<extra></extra>",
         "legendgroup": "Accuracy",
         "marker": {
          "color": "#EF553B",
          "pattern": {
           "shape": ""
          }
         },
         "name": "Accuracy",
         "offsetgroup": "Accuracy",
         "orientation": "v",
         "showlegend": true,
         "textposition": "auto",
         "type": "bar",
         "x": [
          "Random Forest",
          "Naive Bayes",
          "KNN",
          "Gradient Boosting",
          "Nearest Centroid",
          "Decision Tree",
          "AdaBoost Classifier"
         ],
         "xaxis": "x",
         "y": [
          0.9818609377954245,
          0.798629821327283,
          0.9430717054263565,
          0.9684752552467385,
          0.5261096142938173,
          0.9820825061448288,
          0.9574293344677632
         ],
         "yaxis": "y"
        },
        {
         "alignmentgroup": "True",
         "hovertemplate": "variable=Precision<br>Modelo=%{x}<br>Valor=%{y}<extra></extra>",
         "legendgroup": "Precision",
         "marker": {
          "color": "#00cc96",
          "pattern": {
           "shape": ""
          }
         },
         "name": "Precision",
         "offsetgroup": "Precision",
         "orientation": "v",
         "showlegend": true,
         "textposition": "auto",
         "type": "bar",
         "x": [
          "Random Forest",
          "Naive Bayes",
          "KNN",
          "Gradient Boosting",
          "Nearest Centroid",
          "Decision Tree",
          "AdaBoost Classifier"
         ],
         "xaxis": "x",
         "y": [
          0.9220035137197748,
          0.592959581565931,
          0.7893271977768599,
          0.86088840000064,
          0.5256505388482715,
          0.9234657485926924,
          0.8276569635860282
         ],
         "yaxis": "y"
        },
        {
         "alignmentgroup": "True",
         "hovertemplate": "variable=Recall<br>Modelo=%{x}<br>Valor=%{y}<extra></extra>",
         "legendgroup": "Recall",
         "marker": {
          "color": "#ab63fa",
          "pattern": {
           "shape": ""
          }
         },
         "name": "Recall",
         "offsetgroup": "Recall",
         "orientation": "v",
         "showlegend": true,
         "textposition": "auto",
         "type": "bar",
         "x": [
          "Random Forest",
          "Naive Bayes",
          "KNN",
          "Gradient Boosting",
          "Nearest Centroid",
          "Decision Tree",
          "AdaBoost Classifier"
         ],
         "xaxis": "x",
         "y": [
          0.9585875460736211,
          0.7244776998266921,
          0.9192801422648762,
          0.9626114789480347,
          0.5894807765987251,
          0.9581331867249804,
          0.9421742490800562
         ],
         "yaxis": "y"
        },
        {
         "alignmentgroup": "True",
         "hovertemplate": "variable=F1-score<br>Modelo=%{x}<br>Valor=%{y}<extra></extra>",
         "legendgroup": "F1-score",
         "marker": {
          "color": "#FFA15A",
          "pattern": {
           "shape": ""
          }
         },
         "name": "F1-score",
         "offsetgroup": "F1-score",
         "orientation": "v",
         "showlegend": true,
         "textposition": "auto",
         "type": "bar",
         "x": [
          "Random Forest",
          "Naive Bayes",
          "KNN",
          "Gradient Boosting",
          "Nearest Centroid",
          "Decision Tree",
          "AdaBoost Classifier"
         ],
         "xaxis": "x",
         "y": [
          0.939362620551478,
          0.6054962023477785,
          0.8385641685578935,
          0.9037901417396468,
          0.422933223459531,
          0.9399632943008069,
          0.8739397426418029
         ],
         "yaxis": "y"
        },
        {
         "alignmentgroup": "True",
         "hovertemplate": "variable=ROC AUC<br>Modelo=%{x}<br>Valor=%{y}<extra></extra>",
         "legendgroup": "ROC AUC",
         "marker": {
          "color": "#19d3f3",
          "pattern": {
           "shape": ""
          }
         },
         "name": "ROC AUC",
         "offsetgroup": "ROC AUC",
         "orientation": "v",
         "showlegend": true,
         "textposition": "auto",
         "type": "bar",
         "x": [
          "Random Forest",
          "Naive Bayes",
          "KNN",
          "Gradient Boosting",
          "Nearest Centroid",
          "Decision Tree",
          "AdaBoost Classifier"
         ],
         "xaxis": "x",
         "y": [
          0.9585875460736211,
          0.7244776998266921,
          0.9192801422648762,
          0.9626114789480347,
          0.5894807765987251,
          0.9581331867249804,
          0.9421742490800562
         ],
         "yaxis": "y"
        },
        {
         "alignmentgroup": "True",
         "hovertemplate": "variable=Specificity<br>Modelo=%{x}<br>Valor=%{y}<extra></extra>",
         "legendgroup": "Specificity",
         "marker": {
          "color": "#FF6692",
          "pattern": {
           "shape": ""
          }
         },
         "name": "Specificity",
         "offsetgroup": "Specificity",
         "orientation": "v",
         "showlegend": true,
         "textposition": "auto",
         "type": "bar",
         "x": [
          "Random Forest",
          "Naive Bayes",
          "KNN",
          "Gradient Boosting",
          "Nearest Centroid",
          "Decision Tree",
          "AdaBoost Classifier"
         ],
         "xaxis": "x",
         "y": [
          0.986143231452238,
          0.8122737784838914,
          0.9474493423960743,
          0.9695541874603611,
          0.5144493488023473,
          0.9864891701954553,
          0.9602362633490714
         ],
         "yaxis": "y"
        }
       ],
       "layout": {
        "barmode": "relative",
        "legend": {
         "title": {
          "text": "variable"
         },
         "tracegroupgap": 0
        },
        "margin": {
         "t": 60
        },
        "template": {
         "data": {
          "bar": [
           {
            "error_x": {
             "color": "#2a3f5f"
            },
            "error_y": {
             "color": "#2a3f5f"
            },
            "marker": {
             "line": {
              "color": "#E5ECF6",
              "width": 0.5
             },
             "pattern": {
              "fillmode": "overlay",
              "size": 10,
              "solidity": 0.2
             }
            },
            "type": "bar"
           }
          ],
          "barpolar": [
           {
            "marker": {
             "line": {
              "color": "#E5ECF6",
              "width": 0.5
             },
             "pattern": {
              "fillmode": "overlay",
              "size": 10,
              "solidity": 0.2
             }
            },
            "type": "barpolar"
           }
          ],
          "carpet": [
           {
            "aaxis": {
             "endlinecolor": "#2a3f5f",
             "gridcolor": "white",
             "linecolor": "white",
             "minorgridcolor": "white",
             "startlinecolor": "#2a3f5f"
            },
            "baxis": {
             "endlinecolor": "#2a3f5f",
             "gridcolor": "white",
             "linecolor": "white",
             "minorgridcolor": "white",
             "startlinecolor": "#2a3f5f"
            },
            "type": "carpet"
           }
          ],
          "choropleth": [
           {
            "colorbar": {
             "outlinewidth": 0,
             "ticks": ""
            },
            "type": "choropleth"
           }
          ],
          "contour": [
           {
            "colorbar": {
             "outlinewidth": 0,
             "ticks": ""
            },
            "colorscale": [
             [
              0,
              "#0d0887"
             ],
             [
              0.1111111111111111,
              "#46039f"
             ],
             [
              0.2222222222222222,
              "#7201a8"
             ],
             [
              0.3333333333333333,
              "#9c179e"
             ],
             [
              0.4444444444444444,
              "#bd3786"
             ],
             [
              0.5555555555555556,
              "#d8576b"
             ],
             [
              0.6666666666666666,
              "#ed7953"
             ],
             [
              0.7777777777777778,
              "#fb9f3a"
             ],
             [
              0.8888888888888888,
              "#fdca26"
             ],
             [
              1,
              "#f0f921"
             ]
            ],
            "type": "contour"
           }
          ],
          "contourcarpet": [
           {
            "colorbar": {
             "outlinewidth": 0,
             "ticks": ""
            },
            "type": "contourcarpet"
           }
          ],
          "heatmap": [
           {
            "colorbar": {
             "outlinewidth": 0,
             "ticks": ""
            },
            "colorscale": [
             [
              0,
              "#0d0887"
             ],
             [
              0.1111111111111111,
              "#46039f"
             ],
             [
              0.2222222222222222,
              "#7201a8"
             ],
             [
              0.3333333333333333,
              "#9c179e"
             ],
             [
              0.4444444444444444,
              "#bd3786"
             ],
             [
              0.5555555555555556,
              "#d8576b"
             ],
             [
              0.6666666666666666,
              "#ed7953"
             ],
             [
              0.7777777777777778,
              "#fb9f3a"
             ],
             [
              0.8888888888888888,
              "#fdca26"
             ],
             [
              1,
              "#f0f921"
             ]
            ],
            "type": "heatmap"
           }
          ],
          "heatmapgl": [
           {
            "colorbar": {
             "outlinewidth": 0,
             "ticks": ""
            },
            "colorscale": [
             [
              0,
              "#0d0887"
             ],
             [
              0.1111111111111111,
              "#46039f"
             ],
             [
              0.2222222222222222,
              "#7201a8"
             ],
             [
              0.3333333333333333,
              "#9c179e"
             ],
             [
              0.4444444444444444,
              "#bd3786"
             ],
             [
              0.5555555555555556,
              "#d8576b"
             ],
             [
              0.6666666666666666,
              "#ed7953"
             ],
             [
              0.7777777777777778,
              "#fb9f3a"
             ],
             [
              0.8888888888888888,
              "#fdca26"
             ],
             [
              1,
              "#f0f921"
             ]
            ],
            "type": "heatmapgl"
           }
          ],
          "histogram": [
           {
            "marker": {
             "pattern": {
              "fillmode": "overlay",
              "size": 10,
              "solidity": 0.2
             }
            },
            "type": "histogram"
           }
          ],
          "histogram2d": [
           {
            "colorbar": {
             "outlinewidth": 0,
             "ticks": ""
            },
            "colorscale": [
             [
              0,
              "#0d0887"
             ],
             [
              0.1111111111111111,
              "#46039f"
             ],
             [
              0.2222222222222222,
              "#7201a8"
             ],
             [
              0.3333333333333333,
              "#9c179e"
             ],
             [
              0.4444444444444444,
              "#bd3786"
             ],
             [
              0.5555555555555556,
              "#d8576b"
             ],
             [
              0.6666666666666666,
              "#ed7953"
             ],
             [
              0.7777777777777778,
              "#fb9f3a"
             ],
             [
              0.8888888888888888,
              "#fdca26"
             ],
             [
              1,
              "#f0f921"
             ]
            ],
            "type": "histogram2d"
           }
          ],
          "histogram2dcontour": [
           {
            "colorbar": {
             "outlinewidth": 0,
             "ticks": ""
            },
            "colorscale": [
             [
              0,
              "#0d0887"
             ],
             [
              0.1111111111111111,
              "#46039f"
             ],
             [
              0.2222222222222222,
              "#7201a8"
             ],
             [
              0.3333333333333333,
              "#9c179e"
             ],
             [
              0.4444444444444444,
              "#bd3786"
             ],
             [
              0.5555555555555556,
              "#d8576b"
             ],
             [
              0.6666666666666666,
              "#ed7953"
             ],
             [
              0.7777777777777778,
              "#fb9f3a"
             ],
             [
              0.8888888888888888,
              "#fdca26"
             ],
             [
              1,
              "#f0f921"
             ]
            ],
            "type": "histogram2dcontour"
           }
          ],
          "mesh3d": [
           {
            "colorbar": {
             "outlinewidth": 0,
             "ticks": ""
            },
            "type": "mesh3d"
           }
          ],
          "parcoords": [
           {
            "line": {
             "colorbar": {
              "outlinewidth": 0,
              "ticks": ""
             }
            },
            "type": "parcoords"
           }
          ],
          "pie": [
           {
            "automargin": true,
            "type": "pie"
           }
          ],
          "scatter": [
           {
            "fillpattern": {
             "fillmode": "overlay",
             "size": 10,
             "solidity": 0.2
            },
            "type": "scatter"
           }
          ],
          "scatter3d": [
           {
            "line": {
             "colorbar": {
              "outlinewidth": 0,
              "ticks": ""
             }
            },
            "marker": {
             "colorbar": {
              "outlinewidth": 0,
              "ticks": ""
             }
            },
            "type": "scatter3d"
           }
          ],
          "scattercarpet": [
           {
            "marker": {
             "colorbar": {
              "outlinewidth": 0,
              "ticks": ""
             }
            },
            "type": "scattercarpet"
           }
          ],
          "scattergeo": [
           {
            "marker": {
             "colorbar": {
              "outlinewidth": 0,
              "ticks": ""
             }
            },
            "type": "scattergeo"
           }
          ],
          "scattergl": [
           {
            "marker": {
             "colorbar": {
              "outlinewidth": 0,
              "ticks": ""
             }
            },
            "type": "scattergl"
           }
          ],
          "scattermapbox": [
           {
            "marker": {
             "colorbar": {
              "outlinewidth": 0,
              "ticks": ""
             }
            },
            "type": "scattermapbox"
           }
          ],
          "scatterpolar": [
           {
            "marker": {
             "colorbar": {
              "outlinewidth": 0,
              "ticks": ""
             }
            },
            "type": "scatterpolar"
           }
          ],
          "scatterpolargl": [
           {
            "marker": {
             "colorbar": {
              "outlinewidth": 0,
              "ticks": ""
             }
            },
            "type": "scatterpolargl"
           }
          ],
          "scatterternary": [
           {
            "marker": {
             "colorbar": {
              "outlinewidth": 0,
              "ticks": ""
             }
            },
            "type": "scatterternary"
           }
          ],
          "surface": [
           {
            "colorbar": {
             "outlinewidth": 0,
             "ticks": ""
            },
            "colorscale": [
             [
              0,
              "#0d0887"
             ],
             [
              0.1111111111111111,
              "#46039f"
             ],
             [
              0.2222222222222222,
              "#7201a8"
             ],
             [
              0.3333333333333333,
              "#9c179e"
             ],
             [
              0.4444444444444444,
              "#bd3786"
             ],
             [
              0.5555555555555556,
              "#d8576b"
             ],
             [
              0.6666666666666666,
              "#ed7953"
             ],
             [
              0.7777777777777778,
              "#fb9f3a"
             ],
             [
              0.8888888888888888,
              "#fdca26"
             ],
             [
              1,
              "#f0f921"
             ]
            ],
            "type": "surface"
           }
          ],
          "table": [
           {
            "cells": {
             "fill": {
              "color": "#EBF0F8"
             },
             "line": {
              "color": "white"
             }
            },
            "header": {
             "fill": {
              "color": "#C8D4E3"
             },
             "line": {
              "color": "white"
             }
            },
            "type": "table"
           }
          ]
         },
         "layout": {
          "annotationdefaults": {
           "arrowcolor": "#2a3f5f",
           "arrowhead": 0,
           "arrowwidth": 1
          },
          "autotypenumbers": "strict",
          "coloraxis": {
           "colorbar": {
            "outlinewidth": 0,
            "ticks": ""
           }
          },
          "colorscale": {
           "diverging": [
            [
             0,
             "#8e0152"
            ],
            [
             0.1,
             "#c51b7d"
            ],
            [
             0.2,
             "#de77ae"
            ],
            [
             0.3,
             "#f1b6da"
            ],
            [
             0.4,
             "#fde0ef"
            ],
            [
             0.5,
             "#f7f7f7"
            ],
            [
             0.6,
             "#e6f5d0"
            ],
            [
             0.7,
             "#b8e186"
            ],
            [
             0.8,
             "#7fbc41"
            ],
            [
             0.9,
             "#4d9221"
            ],
            [
             1,
             "#276419"
            ]
           ],
           "sequential": [
            [
             0,
             "#0d0887"
            ],
            [
             0.1111111111111111,
             "#46039f"
            ],
            [
             0.2222222222222222,
             "#7201a8"
            ],
            [
             0.3333333333333333,
             "#9c179e"
            ],
            [
             0.4444444444444444,
             "#bd3786"
            ],
            [
             0.5555555555555556,
             "#d8576b"
            ],
            [
             0.6666666666666666,
             "#ed7953"
            ],
            [
             0.7777777777777778,
             "#fb9f3a"
            ],
            [
             0.8888888888888888,
             "#fdca26"
            ],
            [
             1,
             "#f0f921"
            ]
           ],
           "sequentialminus": [
            [
             0,
             "#0d0887"
            ],
            [
             0.1111111111111111,
             "#46039f"
            ],
            [
             0.2222222222222222,
             "#7201a8"
            ],
            [
             0.3333333333333333,
             "#9c179e"
            ],
            [
             0.4444444444444444,
             "#bd3786"
            ],
            [
             0.5555555555555556,
             "#d8576b"
            ],
            [
             0.6666666666666666,
             "#ed7953"
            ],
            [
             0.7777777777777778,
             "#fb9f3a"
            ],
            [
             0.8888888888888888,
             "#fdca26"
            ],
            [
             1,
             "#f0f921"
            ]
           ]
          },
          "colorway": [
           "#636efa",
           "#EF553B",
           "#00cc96",
           "#ab63fa",
           "#FFA15A",
           "#19d3f3",
           "#FF6692",
           "#B6E880",
           "#FF97FF",
           "#FECB52"
          ],
          "font": {
           "color": "#2a3f5f"
          },
          "geo": {
           "bgcolor": "white",
           "lakecolor": "white",
           "landcolor": "#E5ECF6",
           "showlakes": true,
           "showland": true,
           "subunitcolor": "white"
          },
          "hoverlabel": {
           "align": "left"
          },
          "hovermode": "closest",
          "mapbox": {
           "style": "light"
          },
          "paper_bgcolor": "white",
          "plot_bgcolor": "#E5ECF6",
          "polar": {
           "angularaxis": {
            "gridcolor": "white",
            "linecolor": "white",
            "ticks": ""
           },
           "bgcolor": "#E5ECF6",
           "radialaxis": {
            "gridcolor": "white",
            "linecolor": "white",
            "ticks": ""
           }
          },
          "scene": {
           "xaxis": {
            "backgroundcolor": "#E5ECF6",
            "gridcolor": "white",
            "gridwidth": 2,
            "linecolor": "white",
            "showbackground": true,
            "ticks": "",
            "zerolinecolor": "white"
           },
           "yaxis": {
            "backgroundcolor": "#E5ECF6",
            "gridcolor": "white",
            "gridwidth": 2,
            "linecolor": "white",
            "showbackground": true,
            "ticks": "",
            "zerolinecolor": "white"
           },
           "zaxis": {
            "backgroundcolor": "#E5ECF6",
            "gridcolor": "white",
            "gridwidth": 2,
            "linecolor": "white",
            "showbackground": true,
            "ticks": "",
            "zerolinecolor": "white"
           }
          },
          "shapedefaults": {
           "line": {
            "color": "#2a3f5f"
           }
          },
          "ternary": {
           "aaxis": {
            "gridcolor": "white",
            "linecolor": "white",
            "ticks": ""
           },
           "baxis": {
            "gridcolor": "white",
            "linecolor": "white",
            "ticks": ""
           },
           "bgcolor": "#E5ECF6",
           "caxis": {
            "gridcolor": "white",
            "linecolor": "white",
            "ticks": ""
           }
          },
          "title": {
           "x": 0.05
          },
          "xaxis": {
           "automargin": true,
           "gridcolor": "white",
           "linecolor": "white",
           "ticks": "",
           "title": {
            "standoff": 15
           },
           "zerolinecolor": "white",
           "zerolinewidth": 2
          },
          "yaxis": {
           "automargin": true,
           "gridcolor": "white",
           "linecolor": "white",
           "ticks": "",
           "title": {
            "standoff": 15
           },
           "zerolinecolor": "white",
           "zerolinewidth": 2
          }
         }
        },
        "title": {
         "text": "Gráfico de barras en función del Modelo y sus métricas.",
         "x": 0.5
        },
        "xaxis": {
         "anchor": "y",
         "categoryorder": "total descending",
         "domain": [
          0,
          1
         ],
         "title": {
          "text": "Modelo"
         }
        },
        "yaxis": {
         "anchor": "x",
         "domain": [
          0,
          1
         ],
         "title": {
          "text": "Valor"
         }
        }
       }
      }
     },
     "metadata": {},
     "output_type": "display_data"
    }
   ],
   "source": [
    "fig = px.bar(df_resultados, x=\"Model\", y=[\"Jaccard Index\", \"Accuracy\", \"Precision\", \"Recall\", \"F1-score\", \"ROC AUC\", \"Specificity\"],\n",
    "             title=\"Métricas de Evaluación de los Modelos de Aprendizaje Automático\",\n",
    "             labels={\"value\": \"Valor de la Métrica\", \"variable\": \"Métrica\"},\n",
    "             barmode=\"group\")\n",
    "\n",
    "fig.update_layout(title_x=0.5, xaxis = {'categoryorder' : 'total descending'})\n",
    "\n",
    "fig.show()"
   ]
  },
  {
   "cell_type": "markdown",
   "metadata": {},
   "source": [
    "# Observaciones.\n",
    "\n",
    "- Vemos que el modelo que mejor métrica `ROC AUC` nos da es **Grandient Boosting**, sin embargo en términos generales de precisión y especificidad (`Precision` & `Sprecifity`) además de `Accuracy` es **Decision Tree**, \n",
    "\n",
    "    por lo que usaremos ese modelo para clasificar nuestros datos."
   ]
  }
 ],
 "metadata": {
  "kernelspec": {
   "display_name": "Python 3",
   "language": "python",
   "name": "python3"
  },
  "language_info": {
   "codemirror_mode": {
    "name": "ipython",
    "version": 3
   },
   "file_extension": ".py",
   "mimetype": "text/x-python",
   "name": "python",
   "nbconvert_exporter": "python",
   "pygments_lexer": "ipython3",
   "version": "3.11.9"
  }
 },
 "nbformat": 4,
 "nbformat_minor": 2
}
